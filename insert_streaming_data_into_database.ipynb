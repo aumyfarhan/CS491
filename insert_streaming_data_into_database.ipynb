{
 "cells": [
  {
   "cell_type": "markdown",
   "id": "f46cfede",
   "metadata": {},
   "source": [
    "# import packages"
   ]
  },
  {
   "cell_type": "code",
   "execution_count": 18,
   "id": "229088db",
   "metadata": {},
   "outputs": [],
   "source": [
    "import tweepy\n",
    "import yaml\n",
    "import json\n",
    "import sqlite3\n",
    "from datetime import datetime\n",
    "import pandas as pd"
   ]
  },
  {
   "cell_type": "markdown",
   "id": "1c103154",
   "metadata": {},
   "source": [
    "# Read twitter Authentication Keys"
   ]
  },
  {
   "cell_type": "code",
   "execution_count": 3,
   "id": "e27a3fb3",
   "metadata": {},
   "outputs": [],
   "source": [
    "# yaml file reader funtion\n",
    "def read_yaml(file_path):\n",
    "    with open(file_path, \"r\") as f:\n",
    "        return yaml.safe_load(f)\n",
    "\n",
    "# yaml config file path\n",
    "file_path = \"twitter_api_key_config.yaml\"\n",
    "# read from config file\n",
    "api_credential = read_yaml(file_path)"
   ]
  },
  {
   "cell_type": "markdown",
   "id": "985abe97",
   "metadata": {},
   "source": [
    "# Create Twitter Authentication"
   ]
  },
  {
   "cell_type": "code",
   "execution_count": 4,
   "id": "4604495c",
   "metadata": {},
   "outputs": [],
   "source": [
    "# API authentication\n",
    "auth = tweepy.OAuthHandler(api_credential[\"api_key\"], \\\n",
    "                           api_credential[\"api_secret_token\"])\n",
    "auth.set_access_token(api_credential[\"access_token\"], \\\n",
    "                      api_credential[\"access_token_secret\"])\n",
    "api = tweepy.API(auth, wait_on_rate_limit=True)"
   ]
  },
  {
   "cell_type": "markdown",
   "id": "3177fa62",
   "metadata": {},
   "source": [
    "# Create the Database and Required Tables"
   ]
  },
  {
   "cell_type": "code",
   "execution_count": 46,
   "id": "44bf8629",
   "metadata": {},
   "outputs": [],
   "source": [
    "# establish a database connection\n",
    "conn = sqlite3.connect('tweet_example_new_4.db')\n",
    "cur = conn.cursor()\n",
    "create_tweet_info_table = \"\"\"CREATE TABLE tweet_info(tweet_id BIGINT PRIMARY KEY, \\\n",
    "                                          user_id BIGINT, \\\n",
    "                                          tweet_lang TEXT, \\\n",
    "                                          tweet_time TEXT, \\\n",
    "                                          source TEXT, \\\n",
    "                                          tweet_text TEXT,\\\n",
    "                                          quote_count TEXT, \\\n",
    "                                          reply_count INT, \\\n",
    "                                          retweet_count INT,\\\n",
    "                                          tweet_favorite_count INT);\"\"\"\n",
    "\n",
    "create_user_info_table =  \"\"\"CREATE TABLE user_info(user_id BIGINT PRIMARY KEY, \\\n",
    "                                          user_screen_name TEXT, \\\n",
    "                                          user_name TEXT, \\\n",
    "                                          user_language TEXT, \\\n",
    "                                          location TEXT, \\\n",
    "                                          profile_url TEXT, \\\n",
    "                                          description TEXT, \\\n",
    "                                          protected TEXT, \\\n",
    "                                          verified TEXT, \\\n",
    "                                          created_at TEXT, \\\n",
    "                                          friends_count BIGINT, \\\n",
    "                                          followers_count BIGINT,\\\n",
    "                                          favorites_count BIGINT, \\\n",
    "                                          statuses_count BIGINT);\"\"\"\n",
    "\n",
    "cur.execute(create_tweet_info_table)\n",
    "cur.execute(create_user_info_table)\n",
    "conn.close()"
   ]
  },
  {
   "cell_type": "markdown",
   "id": "b9c5d205",
   "metadata": {},
   "source": [
    "# define a StreamListener Object"
   ]
  },
  {
   "cell_type": "code",
   "execution_count": 47,
   "id": "3a1da331",
   "metadata": {},
   "outputs": [],
   "source": [
    "# override tweepy.StreamListener to add logic to on_status\n",
    "class MyStreamListener(tweepy.StreamListener):\n",
    "    def __init__(self, listen_time=60):\n",
    "        super(MyStreamListener, self).__init__()\n",
    "        self.counter = 0\n",
    "        print(\"Initialized Tweepy StreamListener.\")\n",
    "        self.start_time = datetime.now()\n",
    "        self.current_time = datetime.now()\n",
    "        self.listen_time = listen_time\n",
    "        self.unique_user_id_set = set([])\n",
    "        # adding database connection code\n",
    "        self.conn = sqlite3.connect('tweet_example_new_4.db')\n",
    "        self.cur  = self.conn.cursor()\n",
    "        \n",
    "    def insert_data(self, data):\n",
    "        tweet_object=json.loads(data) # convert \"string-line\" into json\n",
    "        # check if json object has a key id. Otherwise continue to next.\n",
    "        if 'id' in tweet_object.keys(): \n",
    "            \n",
    "            # tweet object information\n",
    "            tweet_id        = tweet_object['id']\n",
    "            user_id         = tweet_object['user']['id']\n",
    "            tweet_lang      = tweet_object['lang']\n",
    "            tweet_time      = str(pd.to_datetime(tweet_object['created_at']))\n",
    "            source          = tweet_object['source']\n",
    "            tweet_text      = tweet_object['text']\n",
    "\n",
    "            # tweet numeric information\n",
    "            quote_count = tweet_object['quote_count']\n",
    "            reply_count = tweet_object['reply_count']\n",
    "            retweet_count = tweet_object['retweet_count']\n",
    "            tweet_favorite_count = tweet_object['favorite_count']\n",
    "\n",
    "            # meta-content information\n",
    "            hashtags = [hashtag['text'] for hashtag in tweet_object['entities']['hashtags']]\n",
    "            short_urls = [url['url'] for url in tweet_object['entities']['urls']]\n",
    "            expanded_urls = []\n",
    "            try:\n",
    "                expanded_urls = [url['expanded_url'] for url in tweet_object['entities']['urls']]\n",
    "            except:\n",
    "                print('Error Message: No Expanded URL.')\n",
    "            expanded_urls = []\n",
    "\n",
    "            # user interaction based informations    \n",
    "            user_mentions = [user_mentions['id']\\\n",
    "                        for user_mentions in tweet_object['entities']['user_mentions']]\n",
    "\n",
    "\n",
    "            tweet_info = (tweet_id, user_id, tweet_lang,\\\n",
    "                    tweet_time, source, tweet_text,\\\n",
    "                    quote_count, reply_count, retweet_count,\\\n",
    "                    tweet_favorite_count)\n",
    "            self.cur.execute(\" INSERT INTO tweet_info VALUES(?, ?, ?, ?, ?, ?, ?, ?, ?, ?);\", tweet_info)\n",
    "            \n",
    "            # user profile information\n",
    "\n",
    "            if user_id in self.unique_user_id_set:\n",
    "                pass\n",
    "            else:\n",
    "                self.unique_user_id_set.add(user_id)\n",
    "                \n",
    "                user_screen_name      = tweet_object['user']['screen_name']\n",
    "                user_name             = tweet_object['user']['name']\n",
    "                user_language         = tweet_object['user']['lang']  \n",
    "                location              = tweet_object['user']['location']\n",
    "                profile_url           = tweet_object['user']['url']\n",
    "                description           = tweet_object['user']['description']\n",
    "                protected             = tweet_object['user']['protected']\n",
    "                verified              = tweet_object['user']['verified']\n",
    "                created_at            = str(pd.to_datetime(tweet_object['user']['created_at']))\n",
    "                friends_count         = tweet_object['user']['friends_count']\n",
    "                followers_count       = tweet_object['user']['followers_count']\n",
    "                favorites_count       = tweet_object['user']['favourites_count']\n",
    "                statuses_count        = tweet_object['user']['statuses_count']\n",
    "\n",
    "                user_information = (user_id, user_screen_name, user_name,\\\n",
    "                       user_language, location, profile_url,\\\n",
    "                       description, protected, verified, created_at,\\\n",
    "                       friends_count, followers_count,\\\n",
    "                       favorites_count, statuses_count)\n",
    "                self.cur.execute(\" INSERT INTO user_info VALUES(?, ?, ?, ?, ?, ?, ?, ?, ?, ?, ?, ?, ?, ?);\", user_information)\n",
    "            \n",
    "            self.conn.commit()\n",
    "        \n",
    "    def on_data(self, data):\n",
    "        self.current_time = datetime.now()\n",
    "        time_elapsed = (self.current_time - self.start_time).total_seconds()\n",
    "        if time_elapsed < self.listen_time:\n",
    "            try:\n",
    "                self.counter += 1\n",
    "                \"\"\"\n",
    "                Changing the code here.\n",
    "                Previously, we saved to Text file.\n",
    "                Now, we will pass this to the Database insertor method.\n",
    "                \"\"\"\n",
    "                # -- self.output_file.write(str(data))\n",
    "                self.insert_data(str(data))\n",
    "                \n",
    "            except Exception as e:\n",
    "                print(f\"On data Exception:{e}.\")\n",
    "        else:\n",
    "            print(f\"Stream listen time period ended. Total listen time: {self.listen_time} seconds.\\n\\n\")\n",
    "            print(f\"Total Tweet processed: {self.counter}\")\n",
    "            self.conn.close()\n",
    "            return False\n",
    "\n",
    "    # handling Errors\n",
    "    def on_error(self, status_code):\n",
    "        print(f\"status_code: {status_code}\")\n",
    "        if status_code == 420:\n",
    "            #returning False in on_error disconnects the stream\n",
    "            return False"
   ]
  },
  {
   "cell_type": "markdown",
   "id": "afd71673",
   "metadata": {},
   "source": [
    "# create a stream"
   ]
  },
  {
   "cell_type": "code",
   "execution_count": 48,
   "id": "db24bbd0",
   "metadata": {},
   "outputs": [
    {
     "name": "stdout",
     "output_type": "stream",
     "text": [
      "Initialized Tweepy StreamListener.\n"
     ]
    }
   ],
   "source": [
    "myStreamListener = MyStreamListener(listen_time=20)\n",
    "myStream = tweepy.Stream(api.auth, myStreamListener)"
   ]
  },
  {
   "cell_type": "markdown",
   "id": "363b7b5c",
   "metadata": {},
   "source": [
    "# start the streamer"
   ]
  },
  {
   "cell_type": "code",
   "execution_count": 49,
   "id": "8e251e4a",
   "metadata": {},
   "outputs": [
    {
     "name": "stdout",
     "output_type": "stream",
     "text": [
      "Stream Filter\n",
      "Stream listen time period ended. Total listen time: 20 seconds.\n",
      "\n",
      "\n",
      "Total Tweet processed: 26\n",
      "DONE\n"
     ]
    }
   ],
   "source": [
    "keywords = ['ida']\n",
    "try:\n",
    "    print(\"Stream Filter\")\n",
    "    myStream.filter(track=keywords)\n",
    "    print(\"DONE\")\n",
    "except Exception as e:\n",
    "    print(f\"error in stream filter {e}\")"
   ]
  },
  {
   "cell_type": "code",
   "execution_count": 50,
   "id": "f72e3255",
   "metadata": {},
   "outputs": [
    {
     "name": "stdout",
     "output_type": "stream",
     "text": [
      "(1435284268972871682, 1002002407121915904, 'es', '2021-09-07 16:50:10+00:00', '<a href=\"http://twitter.com/download/android\" rel=\"nofollow\">Twitter for Android</a>', 'viaje de ida', '0', 0, 0, 0)\n"
     ]
    }
   ],
   "source": [
    "conn = sqlite3.connect('tweet_example_new_4.db')\n",
    "cur  = conn.cursor()\n",
    "\n",
    "cur.execute(\"SELECT * FROM tweet_info\")\n",
    "one_result = cur.fetchone()\n",
    "print(one_result)"
   ]
  },
  {
   "cell_type": "code",
   "execution_count": 51,
   "id": "e4293063",
   "metadata": {},
   "outputs": [
    {
     "name": "stdout",
     "output_type": "stream",
     "text": [
      "26\n"
     ]
    }
   ],
   "source": [
    "cur.execute(\"SELECT * FROM tweet_info\")\n",
    "all_result = cur.fetchall()\n",
    "print(len(all_result))"
   ]
  },
  {
   "cell_type": "code",
   "execution_count": 52,
   "id": "01e04eeb",
   "metadata": {},
   "outputs": [],
   "source": [
    "conn.close()"
   ]
  },
  {
   "cell_type": "code",
   "execution_count": null,
   "id": "60240e95",
   "metadata": {},
   "outputs": [],
   "source": []
  }
 ],
 "metadata": {
  "kernelspec": {
   "display_name": "Python 3",
   "language": "python",
   "name": "python3"
  },
  "language_info": {
   "codemirror_mode": {
    "name": "ipython",
    "version": 3
   },
   "file_extension": ".py",
   "mimetype": "text/x-python",
   "name": "python",
   "nbconvert_exporter": "python",
   "pygments_lexer": "ipython3",
   "version": "3.8.8"
  }
 },
 "nbformat": 4,
 "nbformat_minor": 5
}
