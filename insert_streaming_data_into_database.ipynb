{
 "cells": [
  {
   "cell_type": "markdown",
   "id": "f46cfede",
   "metadata": {},
   "source": [
    "# import packages"
   ]
  },
  {
   "cell_type": "code",
   "execution_count": 46,
   "id": "229088db",
   "metadata": {},
   "outputs": [],
   "source": [
    "import tweepy\n",
    "import yaml\n",
    "import json\n",
    "import sqlite3\n",
    "from datetime import datetime\n",
    "import pandas as pd"
   ]
  },
  {
   "cell_type": "markdown",
   "id": "1c103154",
   "metadata": {},
   "source": [
    "# Read twitter Authentication Keys"
   ]
  },
  {
   "cell_type": "code",
   "execution_count": 47,
   "id": "e27a3fb3",
   "metadata": {},
   "outputs": [],
   "source": [
    "# yaml file reader funtion\n",
    "def read_yaml(file_path):\n",
    "    with open(file_path, \"r\") as f:\n",
    "        return yaml.safe_load(f)\n",
    "\n",
    "# yaml config file path\n",
    "file_path = \"twitter_api_key_config.yaml\"\n",
    "# read from config file\n",
    "api_credential = read_yaml(file_path)"
   ]
  },
  {
   "cell_type": "markdown",
   "id": "985abe97",
   "metadata": {},
   "source": [
    "# Create Twitter Authentication"
   ]
  },
  {
   "cell_type": "code",
   "execution_count": 48,
   "id": "4604495c",
   "metadata": {},
   "outputs": [],
   "source": [
    "# API authentication\n",
    "auth = tweepy.OAuthHandler(api_credential[\"api_key\"], \\\n",
    "                           api_credential[\"api_secret_token\"])\n",
    "auth.set_access_token(api_credential[\"access_token\"], \\\n",
    "                      api_credential[\"access_token_secret\"])\n",
    "api = tweepy.API(auth, wait_on_rate_limit=True)"
   ]
  },
  {
   "cell_type": "markdown",
   "id": "3177fa62",
   "metadata": {},
   "source": [
    "# Create the Database and Required Tables"
   ]
  },
  {
   "cell_type": "code",
   "execution_count": 49,
   "id": "44bf8629",
   "metadata": {},
   "outputs": [],
   "source": [
    "# establish a database connection\n",
    "conn = sqlite3.connect('tweet_example.db')\n",
    "cur = conn.cursor()\n",
    "create_tweet_info_table = \"\"\"CREATE TABLE tweet_info(tweet_id BIGINT PRIMARY KEY, \\\n",
    "                                          user_id BIGINT, \\\n",
    "                                          tweet_lang TEXT, \\\n",
    "                                          tweet_time TEXT, \\\n",
    "                                          source TEXT, \\\n",
    "                                          tweet_text TEXT,\\\n",
    "                                          quote_count TEXT, \\\n",
    "                                          reply_count INT, \\\n",
    "                                          retweet_count INT,\\\n",
    "                                          tweet_favorite_count INT, \\\n",
    "                                          hashtags TEXT, \\\n",
    "                                          short_urls TEXT, \\\n",
    "                                          expanded_urls TEXT, \\\n",
    "                                          user_mentions TEXT);\"\"\"\n",
    "\n",
    "create_user_info_table =  \"\"\"CREATE TABLE user_info(user_id BIGINT PRIMARY KEY, \\\n",
    "                                          user_screen_name TEXT, \\\n",
    "                                          user_name TEXT, \\\n",
    "                                          user_language TEXT, \\\n",
    "                                          location TEXT, \\\n",
    "                                          profile_url TEXT, \\\n",
    "                                          description TEXT, \\\n",
    "                                          protected TEXT, \\\n",
    "                                          verified TEXT, \\\n",
    "                                          created_at TEXT, \\\n",
    "                                          friends_count BIGINT, \\\n",
    "                                          followers_count BIGINT,\\\n",
    "                                          favorites_count BIGINT, \\\n",
    "                                          statuses_count BIGINT);\"\"\"\n",
    "\n",
    "cur.execute(create_tweet_info_table)\n",
    "cur.execute(create_user_info_table)\n",
    "conn.close()"
   ]
  },
  {
   "cell_type": "markdown",
   "id": "b29e1713",
   "metadata": {},
   "source": [
    "# check if a table exists in the database"
   ]
  },
  {
   "cell_type": "code",
   "execution_count": 50,
   "id": "561b2f30",
   "metadata": {},
   "outputs": [
    {
     "name": "stdout",
     "output_type": "stream",
     "text": [
      "tweet_info table exists.\n"
     ]
    }
   ],
   "source": [
    "conn = sqlite3.connect('tweet_example.db')\n",
    "cur = conn.cursor()\n",
    "\n",
    "table_exist_query = ''' SELECT count(*) FROM sqlite_master WHERE type='table' AND name='tweet_info' '''\n",
    "cur.execute(table_exist_query)\n",
    "exist_result = cur.fetchone()\n",
    "\n",
    "if exist_result[0]==1:\n",
    "    print(\"tweet_info table exists.\")\n",
    "else:\n",
    "    print(\"tweet_info table does not exist.\")\n",
    "conn.close()"
   ]
  },
  {
   "cell_type": "markdown",
   "id": "b9c5d205",
   "metadata": {},
   "source": [
    "# define a StreamListener Object"
   ]
  },
  {
   "cell_type": "code",
   "execution_count": 51,
   "id": "3a1da331",
   "metadata": {},
   "outputs": [],
   "source": [
    "# override tweepy.StreamListener to add logic to on_status\n",
    "class MyStreamListener(tweepy.StreamListener):\n",
    "    def __init__(self, listen_time=60):\n",
    "        super(MyStreamListener, self).__init__()\n",
    "        self.counter = 0\n",
    "        print(\"Initialized Tweepy StreamListener.\")\n",
    "        self.start_time = datetime.now()\n",
    "        self.current_time = datetime.now()\n",
    "        self.listen_time = listen_time\n",
    "        self.unique_user_id_set = set([])\n",
    "        # adding database connection code\n",
    "        self.conn = sqlite3.connect('tweet_example.db')\n",
    "        self.cur  = self.conn.cursor()\n",
    "        \n",
    "    def insert_data(self, data):\n",
    "        tweet_object=json.loads(data) # convert \"string-line\" into json\n",
    "        # check if json object has a key id. Otherwise continue to next.\n",
    "        if 'id' in tweet_object.keys(): \n",
    "            \n",
    "            # tweet object information\n",
    "            tweet_id        = tweet_object['id']\n",
    "            user_id         = tweet_object['user']['id']\n",
    "            tweet_lang      = tweet_object['lang']\n",
    "            tweet_time      = str(pd.to_datetime(tweet_object['created_at']))\n",
    "            source          = tweet_object['source']\n",
    "            tweet_text      = tweet_object['text']\n",
    "\n",
    "            # tweet numeric information\n",
    "            quote_count = tweet_object['quote_count']\n",
    "            reply_count = tweet_object['reply_count']\n",
    "            retweet_count = tweet_object['retweet_count']\n",
    "            tweet_favorite_count = tweet_object['favorite_count']\n",
    "\n",
    "            # meta-content information\n",
    "            hashtags = [str(hashtag['text']) for hashtag in tweet_object['entities']['hashtags']]\n",
    "            hashtags = \",\".join(hashtags)\n",
    "            short_urls = [str(url['url']) for url in tweet_object['entities']['urls']]\n",
    "            short_urls = \",\".join(short_urls)\n",
    "            expanded_urls = []\n",
    "            try:\n",
    "                expanded_urls = [str(url['expanded_url']) for url in tweet_object['entities']['urls']]\n",
    "            except:\n",
    "                print('Error Message: No Expanded URL.')\n",
    "            expanded_urls = \",\".join(expanded_urls)\n",
    "\n",
    "            # user interaction based informations    \n",
    "            user_mentions = [str(user_mentions['id'])\\\n",
    "                        for user_mentions in tweet_object['entities']['user_mentions']]\n",
    "            user_mentions = \",\".join(user_mentions)\n",
    "\n",
    "            tweet_info = (tweet_id, user_id, tweet_lang,\\\n",
    "                    tweet_time, source, tweet_text,\\\n",
    "                    quote_count, reply_count, retweet_count,\\\n",
    "                    tweet_favorite_count, hashtags, short_urls,\\\n",
    "                    expanded_urls, user_mentions)\n",
    "            self.cur.execute(\"INSERT INTO tweet_info \\\n",
    "            VALUES(?, ?, ?, ?, ?, ?, ?, ?, ?, ?, ?, ?, ?, ?);\", tweet_info)\n",
    "            \n",
    "            # user profile information\n",
    "\n",
    "            if user_id in self.unique_user_id_set:\n",
    "                pass\n",
    "            else:\n",
    "                self.unique_user_id_set.add(user_id)\n",
    "                \n",
    "                user_screen_name      = tweet_object['user']['screen_name']\n",
    "                user_name             = tweet_object['user']['name']\n",
    "                user_language         = tweet_object['user']['lang']  \n",
    "                location              = tweet_object['user']['location']\n",
    "                profile_url           = tweet_object['user']['url']\n",
    "                description           = tweet_object['user']['description']\n",
    "                protected             = tweet_object['user']['protected']\n",
    "                verified              = tweet_object['user']['verified']\n",
    "                created_at            = str(pd.to_datetime(tweet_object['user']['created_at']))\n",
    "                friends_count         = tweet_object['user']['friends_count']\n",
    "                followers_count       = tweet_object['user']['followers_count']\n",
    "                favorites_count       = tweet_object['user']['favourites_count']\n",
    "                statuses_count        = tweet_object['user']['statuses_count']\n",
    "\n",
    "                user_information = (user_id, user_screen_name, user_name,\\\n",
    "                       user_language, location, profile_url,\\\n",
    "                       description, protected, verified, created_at,\\\n",
    "                       friends_count, followers_count,\\\n",
    "                       favorites_count, statuses_count)\n",
    "                self.cur.execute(\" INSERT INTO user_info VALUES(?, ?, ?, ?, ?, ?, ?, ?, ?, ?, ?, ?, ?, ?);\", user_information)\n",
    "            \n",
    "            self.conn.commit()\n",
    "        \n",
    "    def on_data(self, data):\n",
    "        self.current_time = datetime.now()\n",
    "        time_elapsed = (self.current_time - self.start_time).total_seconds()\n",
    "        if time_elapsed < self.listen_time:\n",
    "            try:\n",
    "                self.counter += 1\n",
    "                \"\"\"\n",
    "                Changing the code here.\n",
    "                Previously, we saved to Text file.\n",
    "                Now, we will pass this to the Database insertor method.\n",
    "                \"\"\"\n",
    "                # -- self.output_file.write(str(data))\n",
    "                print(f\"Tweet Processed: {self.counter}\\n\")\n",
    "                self.insert_data(str(data))\n",
    "                \n",
    "            except Exception as e:\n",
    "                print(f\"On data Exception:{e}.\")\n",
    "        else:\n",
    "            print(f\"Stream listen time period ended. Total listen time: {self.listen_time} seconds.\\n\\n\")\n",
    "            print(f\"Total Tweet processed: {self.counter}\")\n",
    "            self.conn.close()\n",
    "            return False\n",
    "\n",
    "    # handling Errors\n",
    "    def on_error(self, status_code):\n",
    "        print(f\"status_code: {status_code}\")\n",
    "        if status_code == 420:\n",
    "            #returning False in on_error disconnects the stream\n",
    "            return False"
   ]
  },
  {
   "cell_type": "markdown",
   "id": "afd71673",
   "metadata": {},
   "source": [
    "# create a stream"
   ]
  },
  {
   "cell_type": "code",
   "execution_count": 52,
   "id": "db24bbd0",
   "metadata": {},
   "outputs": [
    {
     "name": "stdout",
     "output_type": "stream",
     "text": [
      "Initialized Tweepy StreamListener.\n"
     ]
    }
   ],
   "source": [
    "myStreamListener = MyStreamListener(listen_time=30)\n",
    "myStream = tweepy.Stream(api.auth, myStreamListener)"
   ]
  },
  {
   "cell_type": "markdown",
   "id": "363b7b5c",
   "metadata": {},
   "source": [
    "# start the streamer"
   ]
  },
  {
   "cell_type": "code",
   "execution_count": 53,
   "id": "8e251e4a",
   "metadata": {},
   "outputs": [
    {
     "name": "stdout",
     "output_type": "stream",
     "text": [
      "Stream Filter\n",
      "Tweet Processed: 1\n",
      "\n",
      "Tweet Processed: 2\n",
      "\n",
      "Tweet Processed: 3\n",
      "\n",
      "Tweet Processed: 4\n",
      "\n",
      "Tweet Processed: 5\n",
      "\n",
      "Tweet Processed: 6\n",
      "\n",
      "Tweet Processed: 7\n",
      "\n",
      "Tweet Processed: 8\n",
      "\n",
      "Tweet Processed: 9\n",
      "\n",
      "Tweet Processed: 10\n",
      "\n",
      "Tweet Processed: 11\n",
      "\n",
      "Tweet Processed: 12\n",
      "\n",
      "Tweet Processed: 13\n",
      "\n",
      "Tweet Processed: 14\n",
      "\n",
      "Tweet Processed: 15\n",
      "\n",
      "Tweet Processed: 16\n",
      "\n",
      "Tweet Processed: 17\n",
      "\n",
      "Tweet Processed: 18\n",
      "\n",
      "Tweet Processed: 19\n",
      "\n",
      "Stream listen time period ended. Total listen time: 30 seconds.\n",
      "\n",
      "\n",
      "Total Tweet processed: 19\n",
      "DONE\n"
     ]
    }
   ],
   "source": [
    "keywords = ['ida']\n",
    "try:\n",
    "    print(\"Stream Filter\")\n",
    "    myStream.filter(track=keywords)\n",
    "    print(\"DONE\")\n",
    "except Exception as e:\n",
    "    print(f\"error in stream filter {e}\")"
   ]
  },
  {
   "cell_type": "markdown",
   "id": "f6b184b4",
   "metadata": {},
   "source": [
    "# fetch a single entry from the database"
   ]
  },
  {
   "cell_type": "code",
   "execution_count": 54,
   "id": "f72e3255",
   "metadata": {},
   "outputs": [
    {
     "name": "stdout",
     "output_type": "stream",
     "text": [
      "(1435987801779101697, 104854735, 'en', '2021-09-09 15:25:45+00:00', '<a href=\"https://space.sprinklr.com\" rel=\"nofollow\">Sprinklr - Entergy</a>', 'As of today, Orleans Parish is 98% restored after 10 days of restoration work in the wake of #Ida. 682,000 of the 9… https://t.co/YxK0BhrC4e', '0', 0, 0, 0, 'Ida', 'https://t.co/YxK0BhrC4e', 'https://twitter.com/i/web/status/1435987801779101697', '')\n",
      "\n",
      "\n",
      "\n",
      "(104854735, 'EntergyNOLA', 'Entergy New Orleans', None, 'New Orleans', 'http://www.entergyneworleans.com', 'This page is monitored during business hours. For customer service, please call 1-800-368-3749. To report power outages & emergencies, 1-800-968-8243.', '0', '1', '2010-01-14 16:16:27+00:00', 155, 20093, 487, 6856)\n"
     ]
    }
   ],
   "source": [
    "# establish database connection\n",
    "conn = sqlite3.connect('tweet_example.db')\n",
    "# get the cursor object\n",
    "cur  = conn.cursor()\n",
    "\n",
    "# execute the query \n",
    "cur.execute(\"SELECT * FROM tweet_info\")\n",
    "# fetch result\n",
    "tweet_info_single_result = cur.fetchone()\n",
    "print(tweet_info_single_result)\n",
    "\n",
    "print(\"\\n\\n\")\n",
    "# execute thre query\n",
    "cur.execute(\"SELECT * FROM user_info\")\n",
    "# # fetchr result\n",
    "user_info_single_result = cur.fetchone()\n",
    "print(user_info_single_result)"
   ]
  },
  {
   "cell_type": "markdown",
   "id": "0a02ab54",
   "metadata": {},
   "source": [
    "# fetch all the entries from the database"
   ]
  },
  {
   "cell_type": "code",
   "execution_count": 55,
   "id": "e4293063",
   "metadata": {},
   "outputs": [
    {
     "name": "stdout",
     "output_type": "stream",
     "text": [
      "No of tweet stored: 19\n",
      "\n",
      "[(1435987801779101697, 104854735, 'en', '2021-09-09 15:25:45+00:00', '<a href=\"https://space.sprinklr.com\" rel=\"nofollow\">Sprinklr - Entergy</a>', 'As of today, Orleans Parish is 98% restored after 10 days of restoration work in the wake of #Ida. 682,000 of the 9… https://t.co/YxK0BhrC4e', '0', 0, 0, 0, 'Ida', 'https://t.co/YxK0BhrC4e', 'https://twitter.com/i/web/status/1435987801779101697', ''), (1435987802462818312, 533604777, 'pt', '2021-09-09 15:25:46+00:00', '<a href=\"http://twitter.com/download/android\" rel=\"nofollow\">Twitter for Android</a>', 'RT @Flamengo: Amanhã tem Mengão na semifinal do Carioca Sub-20 (jogo de ida)! \\n\\nBotafogo x Flamengo, no Cefat! \\n\\nA FlaTV transmite ao vivo…', '0', 0, 0, 0, '', '', '', '59591856'), (1435987805730217993, 1548952142, 'en', '2021-09-09 15:25:46+00:00', '<a href=\"http://twitter.com/download/iphone\" rel=\"nofollow\">Twitter for iPhone</a>', 'Could use a little extra after Hurricane Ida Amanda-Lindsley', '0', 0, 0, 0, '', '', '', ''), (1435987805394640897, 311804569, 'en', '2021-09-09 15:25:46+00:00', '<a href=\"http://twitter.com/download/iphone\" rel=\"nofollow\">Twitter for iPhone</a>', 'Post-Ida, lots of patients required special medical needs. Here are some our residents working with attendings Dr.… https://t.co/AgeYzyJVs5', '0', 0, 0, 0, '', 'https://t.co/AgeYzyJVs5', 'https://twitter.com/i/web/status/1435987805394640897', ''), (1435987811409272832, 1337899476703383557, 'no', '2021-09-09 15:25:48+00:00', '<a href=\"http://twitter.com/#!/download/ipad\" rel=\"nofollow\">Twitter for iPad</a>', 'Jævla bra sagt @ErikFollestad', '0', 0, 0, 0, '', '', '', '463261755'), (1435987811950342152, 1349793788668096514, 'en', '2021-09-09 15:25:48+00:00', '<a href=\"http://twitter.com/download/android\" rel=\"nofollow\">Twitter for Android</a>', 'RT @joshnsanchez: People in Louisiana scooping up everything BUT Anthony Davis Ruffles 💀😂 #ida https://t.co/0gUfmOMuRS', '0', 0, 0, 0, 'ida', '', '', '885263698000052224'), (1435987812269101060, 3095182126, 'pt', '2021-09-09 15:25:48+00:00', '<a href=\"http://twitter.com/download/android\" rel=\"nofollow\">Twitter for Android</a>', 'RT @tuitamad: o bil vai entrar na fazenda pra formar casal e garantir o power couple ai vai terminar no power couple pra garantir a ida pro…', '0', 0, 0, 0, '', '', '', '1336392384452636675'), (1435987816438280196, 1317142617373671425, 'en', '2021-09-09 15:25:49+00:00', '<a href=\"http://twitter.com/download/iphone\" rel=\"nofollow\">Twitter for iPhone</a>', \"I'm raising money for Hurricane IDA. Click to Donate https://t.co/9xpUO3hD0N\", '0', 0, 0, 0, '', 'https://t.co/9xpUO3hD0N', 'https://gofund.me/71a1bcaf', ''), (1435987821068791813, 14074515, 'en', '2021-09-09 15:25:50+00:00', '<a href=\"https://mobile.twitter.com\" rel=\"nofollow\">Twitter Web App</a>', 'RT @femaregion2: If you suffered losses from #Ida and live in disaster-declared counties or boroughs, apply to @FEMA for disaster assistanc…', '0', 0, 0, 0, 'Ida', '', '', '18486586,16669075'), (1435987825342795776, 1336722096618090501, 'es', '2021-09-09 15:25:51+00:00', '<a href=\"http://twitter.com/download/iphone\" rel=\"nofollow\">Twitter for iPhone</a>', 'PREMIO! Te has ganado boleto de ida al paro, por retrasada', '0', 0, 0, 0, '', '', '', ''), (1435987837346885633, 221410697, 'en', '2021-09-09 15:25:54+00:00', '<a href=\"http://twitter.com/download/android\" rel=\"nofollow\">Twitter for Android</a>', 'RT @AdamSchefter: Saints’ All-Pro DE Cam Jordan is donating $40,000 to Second Harvest Food Bank to help with Hurricane Ida Relief. He’s als…', '0', 0, 0, 0, '', '', '', '51263592'), (1435987841222418434, 450203723, 'pt', '2021-09-09 15:25:55+00:00', '<a href=\"http://twitter.com/download/android\" rel=\"nofollow\">Twitter for Android</a>', 'RT @tuitamad: o bil vai entrar na fazenda pra formar casal e garantir o power couple ai vai terminar no power couple pra garantir a ida pro…', '0', 0, 0, 0, '', '', '', '1336392384452636675'), (1435987848566657030, 1181029367578845184, 'pt', '2021-09-09 15:25:57+00:00', '<a href=\"http://twitter.com/download/android\" rel=\"nofollow\">Twitter for Android</a>', 'RT @tuitamad: o bil vai entrar na fazenda pra formar casal e garantir o power couple ai vai terminar no power couple pra garantir a ida pro…', '0', 0, 0, 0, '', '', '', '1336392384452636675'), (1435987858985299973, 73229753, 'pt', '2021-09-09 15:25:59+00:00', '<a href=\"http://twitter.com/download/android\" rel=\"nofollow\">Twitter for Android</a>', 'capitalismo é tão fudido que até indo para uma consulta médica, eu fico sentindo que estou fazendo algo errado/aind… https://t.co/1ptVaNpC3E', '0', 0, 0, 0, '', 'https://t.co/1ptVaNpC3E', 'https://twitter.com/i/web/status/1435987858985299973', ''), (1435987863603191808, 146234560, 'en', '2021-09-09 15:26:00+00:00', '<a href=\"https://onloft.com/tweetlogix\" rel=\"nofollow\">Tweetlogix</a>', \"RT @ckm_news: These Louisiana game devs are using a video game bundle to raise money for Hurricane Ida relief. \\n\\nSo far, they've raised mor…\", '0', 0, 0, 0, '', '', '', '700792673687343105'), (1435987864496529412, 2863839994, 'pt', '2021-09-09 15:26:00+00:00', '<a href=\"http://twitter.com/download/iphone\" rel=\"nofollow\">Twitter for iPhone</a>', 'RT @tuitamad: o bil vai entrar na fazenda pra formar casal e garantir o power couple ai vai terminar no power couple pra garantir a ida pro…', '0', 0, 0, 0, '', '', '', '1336392384452636675'), (1435987871006081027, 1169630205540995072, 'en', '2021-09-09 15:26:02+00:00', '<a href=\"https://mobile.twitter.com\" rel=\"nofollow\">Twitter Web App</a>', 'What a great way to grab some games from local developers and support #HurricaneIda relief', '0', 0, 0, 0, 'HurricaneIda', '', '', ''), (1435987875561029633, 3619536852, 'en', '2021-09-09 15:26:03+00:00', '<a href=\"http://twitter.com/download/android\" rel=\"nofollow\">Twitter for Android</a>', \"RT @appleciderwitch: WE'RE BACK!* #hotgamercollective\\n\\n*For A Little Tiny Mini-Raiser, to Help Hurricane Ida Relief and Abortion Funds, thi…\", '0', 0, 0, 0, 'hotgamercollective', '', '', '185844792'), (1435987875762421765, 27649623, 'en', '2021-09-09 15:26:03+00:00', '<a href=\"http://twitter.com/download/iphone\" rel=\"nofollow\">Twitter for iPhone</a>', 'RT @GDuBoisWing: What a great story about how the inspirational @SteveGleason, his wife Michel &amp; son Rivers offered hope to community membe…', '0', 0, 0, 0, '', '', '', '3428685561,376499282')]\n",
      "\n",
      "\n",
      "\n",
      "No of user info stored: 19\n",
      "\n",
      "[(104854735, 'EntergyNOLA', 'Entergy New Orleans', None, 'New Orleans', 'http://www.entergyneworleans.com', 'This page is monitored during business hours. For customer service, please call 1-800-368-3749. To report power outages & emergencies, 1-800-968-8243.', '0', '1', '2010-01-14 16:16:27+00:00', 155, 20093, 487, 6856), (533604777, 'vgsa_', 'NÊSSA ARAÚJO', None, '22/05', None, 'O SENHOR, ele é FLAMENGO e FLAMENGO eu também sou. Ele é da RAÇA, eu também sou, da RAÇA do MENGO!!!!!!!', '0', '0', '2012-03-22 21:22:07+00:00', 1717, 1294, 210, 883120), (1548952142, 'Amanda_Show47', 'Anxiety Pumpkin Spice Latte', None, None, None, '|Digital Media Producer| Kinesiologist turned digital media producer. Forever LSU', '0', '0', '2013-06-26 19:39:57+00:00', 657, 217, 8347, 13887), (311804569, 'NOLA_EM', 'NOLA EM Residency', None, 'New Orleans, LA', 'http://www.NOLAEM.com/', 'The official Twitter for the LSU Spirit of Charity Emergency Medicine Residency Program in #NewOrleans | Pride. Excellence. Experience. ⚜️', '0', '0', '2011-06-06 02:53:06+00:00', 200, 983, 191, 1078), (1337899476703383557, 'Chilly_CFC', 'Chilly🇳🇴💙', None, 'Norge', None, 'Chelsea | Norway | N’golo Kanté | Eminem | Marvel', '0', '0', '2020-12-12 23:18:19+00:00', 128, 33, 1470, 963), (1349793788668096514, 'PamelaC80125844', 'Pamela Currie', None, 'Brooklyn, NY', None, None, '0', '0', '2021-01-14 19:01:42+00:00', 2206, 170, 2792, 1179), (3095182126, 'LariLaufeyson', '𝓛𝓪𝓻𝓲 ४📚||Block de SDV', None, 'São Paulo, Brasil', None, '• The sun will shine on us again ४\\n\\n\\n\\n\\n\\n\\n\\n\\n\\n\\n\\n\\n\\n\\n\\n\\n\\n\\n\\n\\n\\n\\n\\n\\n\\n\\n\\n\\n\\n\\n\\n\\n\\n\\n\\n\\n\\n\\n\\n\\n\\n\\n\\n\\n\\n\\n\\n– Loki ४', '0', '0', '2015-03-18 18:34:28+00:00', 4971, 1267, 109877, 5933), (1317142617373671425, 'CharlesCesareo3', 'Charles Cesareo', None, None, None, 'Rock and Roll music lover/NY Mets and Islanders Fan', '0', '0', '2020-10-16 16:37:51+00:00', 8, 0, 0, 18), (14074515, 'USAGov', 'USAGov', None, 'Washington, DC', 'http://USA.gov', \"We help you discover official U.S. government information and services on the Internet. Retweets or follows don't equal endorsement.\", '0', '1', '2008-03-03 21:06:45+00:00', 1141, 346310, 7054, 24287), (1336722096618090501, 'raulbrown92', '🐍 راؤول', None, 'انا احبك', None, '#blacklivesmatters ✊🏼✊🏽✊🏾✊🏿', '0', '0', '2020-12-09 17:19:28+00:00', 115, 68, 4641, 3555), (221410697, 'buck_mitchell', 'Rhys Knott', None, 'UK', 'http://www.instagram.com/shuta_bug', \"'sort of OK, I guess' - some people\\n'never heard of him' - most people\\n\\n\\nApplied Sport Science grad muttering about 🏉 or 🏈, ⚽, ⚾, 🏒🥅, ⛳🏌️, 🏂🏿 ❤️ music\", '0', '0', '2010-11-30 16:02:58+00:00', 4985, 1060, 113364, 134688), (450203723, 'Deisielly_', 'Deisielly', None, 'Brasil', None, None, '0', '0', '2011-12-30 00:26:42+00:00', 66, 3652, 82, 303809), (1181029367578845184, 'thxlysoon', '𝗽𝗮𝘁𝘆𝗴𝗶𝗿𝗹', None, 'chernobyl', 'https://instagram.com/thxlyson', 'comigo quem quiser, contra mim quem puder', '0', '0', '2019-10-07 02:12:09+00:00', 835, 1284, 107260, 44665), (73229753, 'potarcio', 'tarcin xcx', None, 'Salvador', 'http://instagram.com/tarci.o', 'directed by mike flanagan\\n\\nele/ele/qualquer pronome\\n\\n🌻 @abstruir', '0', '0', '2009-09-10 21:47:34+00:00', 1614, 1170, 39123, 26136), (146234560, 'Carmen_Rox', '𝓒armen 𝓢andiego', None, 'E-City ⚜️', None, None, '0', '0', '2010-05-20 23:06:44+00:00', 251, 542, 522, 62634), (2863839994, 'fifthasqueen', 'Jacke', None, 'Curitiba', None, '[fan account]', '0', '0', '2014-11-06 13:31:09+00:00', 348, 3601, 5990, 102635), (1169630205540995072, 'Pelicans_tech', 'Pelican Center for Technology and Innovation', None, 'New Orleans ', 'https://pelicaninstitute.org/issues/technology-innovation/', 'Committed to promoting technology and innovation in the Pelican State.', '0', '0', '2019-09-05 15:15:53+00:00', 3031, 1156, 810, 967), (3619536852, 'clown_depot', 'The Guy With The Most Internet Points', None, 'Kyoto, Japan', 'https://www.twitch.tv/clown_depot/', 'chase from online ー im just here to have a good time. ー Co-creator of ClownHouse Streaming Group ー pfp by @riverg00', '0', '0', '2015-09-19 20:41:06+00:00', 427, 24799, 39981, 12863), (27649623, 'MarcJSpears', 'Marc J. Spears', None, 'Oakland, CA', 'http://theundefeated.com', 'Senior NBA writer for ESPN’s The Undefeated. Co-author of The Spencer Haywood Rule. Host of Beyond28 Podcast. LSU Masters, San Jose State BA, Foothill AA. NABJ.', '0', '1', '2009-03-30 14:48:43+00:00', 998, 541388, 36290, 37368)]\n"
     ]
    }
   ],
   "source": [
    "cur.execute(\"SELECT * FROM tweet_info\")\n",
    "tweet_info_all_result = cur.fetchall()\n",
    "print(f\"No of tweet stored: {len(tweet_info_all_result)}\\n\")\n",
    "print(tweet_info_all_result)\n",
    "\n",
    "print(\"\\n\\n\")\n",
    "\n",
    "cur.execute(\"SELECT * FROM user_info\")\n",
    "user_info_all_result = cur.fetchall()\n",
    "print(f\"No of user info stored: {len(user_info_all_result)}\\n\")\n",
    "print(user_info_all_result)"
   ]
  },
  {
   "cell_type": "markdown",
   "id": "a77bd377",
   "metadata": {},
   "source": [
    "# how to get the column names of the returned database table\n",
    "We can access the column names through the cursor description"
   ]
  },
  {
   "cell_type": "code",
   "execution_count": 56,
   "id": "e038f54d",
   "metadata": {},
   "outputs": [
    {
     "name": "stdout",
     "output_type": "stream",
     "text": [
      "user_info_column_names: ['user_id', 'user_screen_name', 'user_name', 'user_language', 'location', 'profile_url', 'description', 'protected', 'verified', 'created_at', 'friends_count', 'followers_count', 'favorites_count', 'statuses_count']\n"
     ]
    }
   ],
   "source": [
    "user_info_column_names = [description[0] for description in cur.description]\n",
    "print(f\"user_info_column_names: {user_info_column_names}\")"
   ]
  },
  {
   "cell_type": "markdown",
   "id": "4c987b2b",
   "metadata": {},
   "source": [
    "# fetch the data into a pandas dataframe"
   ]
  },
  {
   "cell_type": "code",
   "execution_count": 58,
   "id": "52ac28f8",
   "metadata": {},
   "outputs": [
    {
     "name": "stdout",
     "output_type": "stream",
     "text": [
      "No of tweet stored: 19, 19\n",
      "\n",
      "No of user info stored: 19, 19\n",
      "\n"
     ]
    }
   ],
   "source": [
    "cur.execute(\"SELECT * FROM tweet_info\")\n",
    "tweet_info_all_result = cur.fetchall()\n",
    "tweet_info_column_names = [description[0] for description in cur.description]\n",
    "tweet_info_dataframe = pd.DataFrame(tweet_info_all_result, \\\n",
    "                                   columns=tweet_info_column_names)\n",
    "print(f\"No of tweet stored: {len(tweet_info_all_result)}, {tweet_info_dataframe.shape[0]}\\n\")\n",
    "\n",
    "\n",
    "\n",
    "cur.execute(\"SELECT * FROM user_info\")\n",
    "user_info_all_result = cur.fetchall()\n",
    "user_info_column_names = [description[0] for description in cur.description]\n",
    "user_info_dataframe = pd.DataFrame(user_info_all_result, \\\n",
    "                                   columns=user_info_column_names)\n",
    "print(f\"No of user info stored: {len(user_info_all_result)}, {user_info_dataframe.shape[0]}\\n\")"
   ]
  },
  {
   "cell_type": "code",
   "execution_count": null,
   "id": "2a2845c2",
   "metadata": {},
   "outputs": [],
   "source": [
    "tweet_info_dataframe.head()"
   ]
  },
  {
   "cell_type": "code",
   "execution_count": null,
   "id": "3d35fa06",
   "metadata": {},
   "outputs": [],
   "source": [
    "user_info_dataframe.head()"
   ]
  },
  {
   "cell_type": "markdown",
   "id": "588168ac",
   "metadata": {},
   "source": [
    "# fetch data for a few selected columns from the database "
   ]
  },
  {
   "cell_type": "code",
   "execution_count": 60,
   "id": "481ac286",
   "metadata": {},
   "outputs": [
    {
     "name": "stdout",
     "output_type": "stream",
     "text": [
      "['user_id', 'user_screen_name', 'friends_count', 'followers_count', 'favorites_count', 'statuses_count']\n"
     ]
    }
   ],
   "source": [
    "# execute the query\n",
    "cur.execute(\"SELECT user_id, user_screen_name, \\\n",
    "                    friends_count, followers_count,\\\n",
    "                    favorites_count, statuses_count \\\n",
    "                    FROM user_info\")\n",
    "# fetch the result\n",
    "user_info_selected_result = cur.fetchall()\n",
    "# fetch the column names\n",
    "user_info_selected_column_names = [description[0] for description in cur.description]\n",
    "print(user_info_selected_column_names)\n",
    "# create a dataframe from the fetched dataset\n",
    "user_info_selected_dataframe = pd.DataFrame(user_info_selected_result, \\\n",
    "                                   columns=user_info_selected_column_names)"
   ]
  },
  {
   "cell_type": "code",
   "execution_count": 61,
   "id": "cbc27907",
   "metadata": {},
   "outputs": [
    {
     "data": {
      "text/html": [
       "<div>\n",
       "<style scoped>\n",
       "    .dataframe tbody tr th:only-of-type {\n",
       "        vertical-align: middle;\n",
       "    }\n",
       "\n",
       "    .dataframe tbody tr th {\n",
       "        vertical-align: top;\n",
       "    }\n",
       "\n",
       "    .dataframe thead th {\n",
       "        text-align: right;\n",
       "    }\n",
       "</style>\n",
       "<table border=\"1\" class=\"dataframe\">\n",
       "  <thead>\n",
       "    <tr style=\"text-align: right;\">\n",
       "      <th></th>\n",
       "      <th>user_id</th>\n",
       "      <th>user_screen_name</th>\n",
       "      <th>friends_count</th>\n",
       "      <th>followers_count</th>\n",
       "      <th>favorites_count</th>\n",
       "      <th>statuses_count</th>\n",
       "    </tr>\n",
       "  </thead>\n",
       "  <tbody>\n",
       "    <tr>\n",
       "      <th>0</th>\n",
       "      <td>104854735</td>\n",
       "      <td>EntergyNOLA</td>\n",
       "      <td>155</td>\n",
       "      <td>20093</td>\n",
       "      <td>487</td>\n",
       "      <td>6856</td>\n",
       "    </tr>\n",
       "    <tr>\n",
       "      <th>1</th>\n",
       "      <td>533604777</td>\n",
       "      <td>vgsa_</td>\n",
       "      <td>1717</td>\n",
       "      <td>1294</td>\n",
       "      <td>210</td>\n",
       "      <td>883120</td>\n",
       "    </tr>\n",
       "    <tr>\n",
       "      <th>2</th>\n",
       "      <td>1548952142</td>\n",
       "      <td>Amanda_Show47</td>\n",
       "      <td>657</td>\n",
       "      <td>217</td>\n",
       "      <td>8347</td>\n",
       "      <td>13887</td>\n",
       "    </tr>\n",
       "    <tr>\n",
       "      <th>3</th>\n",
       "      <td>311804569</td>\n",
       "      <td>NOLA_EM</td>\n",
       "      <td>200</td>\n",
       "      <td>983</td>\n",
       "      <td>191</td>\n",
       "      <td>1078</td>\n",
       "    </tr>\n",
       "    <tr>\n",
       "      <th>4</th>\n",
       "      <td>1337899476703383557</td>\n",
       "      <td>Chilly_CFC</td>\n",
       "      <td>128</td>\n",
       "      <td>33</td>\n",
       "      <td>1470</td>\n",
       "      <td>963</td>\n",
       "    </tr>\n",
       "  </tbody>\n",
       "</table>\n",
       "</div>"
      ],
      "text/plain": [
       "               user_id user_screen_name  friends_count  followers_count  \\\n",
       "0            104854735      EntergyNOLA            155            20093   \n",
       "1            533604777            vgsa_           1717             1294   \n",
       "2           1548952142    Amanda_Show47            657              217   \n",
       "3            311804569          NOLA_EM            200              983   \n",
       "4  1337899476703383557       Chilly_CFC            128               33   \n",
       "\n",
       "   favorites_count  statuses_count  \n",
       "0              487            6856  \n",
       "1              210          883120  \n",
       "2             8347           13887  \n",
       "3              191            1078  \n",
       "4             1470             963  "
      ]
     },
     "execution_count": 61,
     "metadata": {},
     "output_type": "execute_result"
    }
   ],
   "source": [
    "# show some results from the dataframe\n",
    "user_info_selected_dataframe.head()"
   ]
  },
  {
   "cell_type": "markdown",
   "id": "f13c6249",
   "metadata": {},
   "source": [
    "# fetch filtered entries from the database"
   ]
  },
  {
   "cell_type": "code",
   "execution_count": null,
   "id": "65638805",
   "metadata": {},
   "outputs": [],
   "source": [
    "# we are fetching users who have a follower count > 10\n",
    "cur.execute(\"SELECT user_id, followers_count, \\\n",
    "                    WHERE followers_count>10 \\\n",
    "                    FROM user_info\")\n",
    "user_info_filtered_result = cur.fetchall()\n",
    "print(f\"Returned entries: {len(user_info_filtered_result)}\")\n",
    "user_info_filtered_column_names = [description[0] for description in cur.description]\n",
    "user_info_filtered_dataframe = pd.DataFrame(user_info_filtered_result, \\\n",
    "                                   columns=user_info_filtered_column_names)\n",
    "print(f\"# rows user_info_filtered_dataframe: {user_info_filtered_dataframe.shape[0]}\")"
   ]
  },
  {
   "cell_type": "code",
   "execution_count": null,
   "id": "ea7fef6f",
   "metadata": {},
   "outputs": [],
   "source": [
    "user_info_filtered_dataframe.head()"
   ]
  },
  {
   "cell_type": "markdown",
   "id": "637f225a",
   "metadata": {},
   "source": [
    "# close the database connection"
   ]
  },
  {
   "cell_type": "code",
   "execution_count": 52,
   "id": "01e04eeb",
   "metadata": {},
   "outputs": [],
   "source": [
    "conn.close()"
   ]
  },
  {
   "cell_type": "code",
   "execution_count": null,
   "id": "60240e95",
   "metadata": {},
   "outputs": [],
   "source": []
  }
 ],
 "metadata": {
  "kernelspec": {
   "display_name": "Python 3",
   "language": "python",
   "name": "python3"
  },
  "language_info": {
   "codemirror_mode": {
    "name": "ipython",
    "version": 3
   },
   "file_extension": ".py",
   "mimetype": "text/x-python",
   "name": "python",
   "nbconvert_exporter": "python",
   "pygments_lexer": "ipython3",
   "version": "3.8.8"
  }
 },
 "nbformat": 4,
 "nbformat_minor": 5
}
