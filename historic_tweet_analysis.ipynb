{
 "cells": [
  {
   "cell_type": "markdown",
   "id": "04701616",
   "metadata": {},
   "source": [
    "# import packages"
   ]
  },
  {
   "cell_type": "code",
   "execution_count": null,
   "id": "5665ea9a",
   "metadata": {},
   "outputs": [],
   "source": [
    "import tweepy\n",
    "import yaml\n",
    "import json\n",
    "import sqlite3\n",
    "from datetime import datetime\n",
    "import pandas as pd\n",
    "from collections import Counter\n",
    "import re\n",
    "import matplotlib.pyplot as plt\n",
    "import matplotlib.dates as mdates\n",
    "from datetime import datetime\n",
    "from matplotlib.ticker import FuncFormatter"
   ]
  },
  {
   "cell_type": "markdown",
   "id": "b5f25227",
   "metadata": {},
   "source": [
    "# Read twitter Authentication Keys"
   ]
  },
  {
   "cell_type": "code",
   "execution_count": null,
   "id": "ab8b55eb",
   "metadata": {},
   "outputs": [],
   "source": [
    "# yaml file reader funtion\n",
    "def read_yaml(file_path):\n",
    "    with open(file_path, \"r\") as f:\n",
    "        return yaml.safe_load(f)\n",
    "\n",
    "# yaml config file path\n",
    "file_path = \"twitter_api_key_config.yaml\"\n",
    "# read from config file\n",
    "api_credential = read_yaml(file_path)"
   ]
  },
  {
   "cell_type": "markdown",
   "id": "1b793b04",
   "metadata": {},
   "source": [
    "# Create Twitter Authentication"
   ]
  },
  {
   "cell_type": "code",
   "execution_count": null,
   "id": "7d450afb",
   "metadata": {},
   "outputs": [],
   "source": [
    "# API authentication\n",
    "auth = tweepy.OAuthHandler(api_credential[\"api_key\"], \\\n",
    "                           api_credential[\"api_secret_token\"])\n",
    "auth.set_access_token(api_credential[\"access_token\"], \\\n",
    "                      api_credential[\"access_token_secret\"])\n",
    "api = tweepy.API(auth, wait_on_rate_limit=True)"
   ]
  },
  {
   "cell_type": "markdown",
   "id": "aa909010",
   "metadata": {},
   "source": [
    "# Create Database and Table"
   ]
  },
  {
   "cell_type": "code",
   "execution_count": null,
   "id": "5fc5d650",
   "metadata": {},
   "outputs": [],
   "source": [
    "# establish a database connection\n",
    "conn = sqlite3.connect('tweet_example_historic_v1.db')\n",
    "cur = conn.cursor()\n",
    "create_tweet_info_table = \"\"\"CREATE TABLE tweet_info_historic_v1(tweet_id BIGINT PRIMARY KEY,\\\n",
    "                                          user_id BIGINT,\\\n",
    "                                          tweet_lang TEXT,\\\n",
    "                                          tweet_time TEXT,\\\n",
    "                                          source TEXT,\\\n",
    "                                          tweet_text TEXT,\\\n",
    "                                          quote_count TEXT,\\\n",
    "                                          reply_count INT,\\\n",
    "                                          retweet_count INT,\\\n",
    "                                          tweet_favorite_count INT,\\\n",
    "                                          hashtags TEXT,\\\n",
    "                                          short_urls TEXT,\\\n",
    "                                          expanded_urls TEXT,\\\n",
    "                                          user_mentions TEXT,\\\n",
    "                                          in_reply_to_user_id BIGINT,\\\n",
    "                                          in_reply_to_user_name TEXT,\\\n",
    "                                          in_reply_to_status_id BIGINT,\\\n",
    "                                          retweet_id BIGINT,\\\n",
    "                                          retweet_user_id BIGINT,\\\n",
    "                                          retweet_user_name TEXT,\\\n",
    "                                          quote_id BIGINT,\\\n",
    "                                          quote_user_id BIGINT,\\\n",
    "                                          quote_user_name TEXT);\"\"\"\n",
    "\n",
    "create_user_info_table =  \"\"\"CREATE TABLE user_info_historic_v1(user_id BIGINT PRIMARY KEY, \\\n",
    "                                          user_screen_name TEXT, \\\n",
    "                                          user_name TEXT, \\\n",
    "                                          user_language TEXT, \\\n",
    "                                          location TEXT, \\\n",
    "                                          profile_url TEXT, \\\n",
    "                                          description TEXT, \\\n",
    "                                          protected TEXT, \\\n",
    "                                          verified TEXT, \\\n",
    "                                          created_at TEXT, \\\n",
    "                                          friends_count BIGINT, \\\n",
    "                                          followers_count BIGINT,\\\n",
    "                                          favorites_count BIGINT, \\\n",
    "                                          statuses_count BIGINT);\"\"\"\n",
    "\n",
    "cur.execute(create_tweet_info_table)\n",
    "cur.execute(create_user_info_table)\n",
    "conn.close()"
   ]
  },
  {
   "cell_type": "markdown",
   "id": "1b58b950",
   "metadata": {},
   "source": [
    "# Collect historic Tweets"
   ]
  },
  {
   "cell_type": "markdown",
   "id": "f159b044",
   "metadata": {},
   "source": [
    "# Tweet explorer"
   ]
  },
  {
   "cell_type": "code",
   "execution_count": null,
   "id": "8955777b",
   "metadata": {},
   "outputs": [],
   "source": [
    "class TweetExplorer:\n",
    "    def __init__(self):\n",
    "        pass\n",
    "    def add_quote_content(self, tweet_content, quote_content, add_string=\";\"):\n",
    "        if tweet_content and quote_content:\n",
    "            added_content = tweet_content + add_string + quote_content\n",
    "        elif not tweet_content and quote_content:\n",
    "            added_content = quote_content\n",
    "        elif tweet_content and not quote_content:\n",
    "            added_content = tweet_content\n",
    "        else:\n",
    "            added_content = \"\"\n",
    "        return added_content\n",
    "\n",
    "    def get_text_entities(self, tweet_object):\n",
    "        # tweet-text\n",
    "        if \"text\" in tweet_object:\n",
    "            tweet_text = tweet_object[\"text\"]\n",
    "        else:\n",
    "            tweet_text = tweet_object[\"full_text\"]\n",
    "            \n",
    "        # hashtags\n",
    "        hashtags = [hashtag[\"text\"] \\\n",
    "            for hashtag in tweet_object[\"entities\"][\"hashtags\"]]\n",
    "        hashtags = \";\".join(hashtags) if hashtags else \"\"\n",
    "        # user-mentions-id\n",
    "        user_mentions_id = [x[\"id_str\"] \\\n",
    "                            for x in tweet_object[\"entities\"][\"user_mentions\"]]\n",
    "        user_mentions_id = \";\".join(user_mentions_id) if user_mentions_id else \"\"\n",
    "        # user-mentions-name\n",
    "        user_mentions_name = [x[\"screen_name\"] \\\n",
    "                                     for x in tweet_object[\"entities\"][\"user_mentions\"]]\n",
    "        user_mentions_name = \";\".join(user_mentions_name) if user_mentions_name else \"\"\n",
    "        # short-urls\n",
    "        short_urls = [x[\"url\"] \\\n",
    "            for x in tweet_object[\"entities\"][\"urls\"]]\n",
    "        short_urls = \";\".join(short_urls) if short_urls else \"\"\n",
    "        # expanded-urls\n",
    "        expanded_urls = [x[\"expanded_url\"] \\\n",
    "            for x in tweet_object[\"entities\"][\"urls\"]]\n",
    "        expanded_urls = \";\".join(expanded_urls) if expanded_urls else \"\"\n",
    "        \n",
    "        return tweet_text, hashtags,\\\n",
    "    user_mentions_id, user_mentions_name,\\\n",
    "    short_urls, expanded_urls"
   ]
  },
  {
   "cell_type": "code",
   "execution_count": null,
   "id": "fbd877a2",
   "metadata": {},
   "outputs": [],
   "source": [
    "tweet_explorer = TweetExplorer()\n",
    "class databaseManager:\n",
    "    def __init__(self):\n",
    "        self.unique_user_id_set = set([])\n",
    "        self.conn = sqlite3.connect('tweet_example_historic_v1.db')\n",
    "        self.cur  = self.conn.cursor()\n",
    "    def insert_data(self, tweet_object):\n",
    "        #tweet_object=json.loads(data) # convert \"string-line\" into json\n",
    "        # check if json object has a key id. Otherwise continue to next.\n",
    "        if 'id' in tweet_object.keys(): \n",
    "            \n",
    "            # tweet object information\n",
    "            tweet_id        = tweet_object['id']\n",
    "            user_id         = tweet_object['user']['id']\n",
    "            tweet_lang      = tweet_object['lang']\n",
    "            tweet_time      = str(pd.to_datetime(tweet_object['created_at']))\n",
    "            source          = tweet_object['source']\n",
    "\n",
    "\n",
    "            # tweet numeric information\n",
    "            #quote_count = tweet_object['quote_count']\n",
    "            quote_count = 0\n",
    "            reply_count = 0\n",
    "            #reply_count = tweet_object['reply_count']\n",
    "            retweet_count = tweet_object['retweet_count']\n",
    "            tweet_favorite_count = tweet_object['favorite_count']\n",
    "\n",
    "\n",
    "            # reply inofromation\n",
    "            in_reply_to_user_id = tweet_object['in_reply_to_user_id']\n",
    "            in_reply_to_user_name = tweet_object['in_reply_to_screen_name']\n",
    "            in_reply_to_status_id = tweet_object['in_reply_to_status_id']\n",
    "\n",
    "            ## complicated tweet-info collection\n",
    "            is_retweet = False\n",
    "            is_quote = False\n",
    "        \n",
    "            if \"extended_tweet\" in tweet_object.keys():\n",
    "                tweet_content = tweet_object[\"extended_tweet\"]\n",
    "            else:\n",
    "                tweet_content = tweet_object\n",
    "                \n",
    "            native_tweet_text,\\\n",
    "            native_hashtags,\\\n",
    "            native_user_mentions_id,\\\n",
    "            native_user_mentions_name,\\\n",
    "            native_short_urls,\\\n",
    "            native_expanded_urls = tweet_explorer.get_text_entities(tweet_content)\n",
    "\n",
    "            # case: retweet \n",
    "            if \"retweeted_status\" in tweet_object:\n",
    "                is_retweet = True\n",
    "                # case: extended-retweet \n",
    "                if \"extended_tweet\" in tweet_object[\"retweeted_status\"].keys():\n",
    "                    retweet_content = tweet_object[\"retweeted_status\"][\"extended_tweet\"]\n",
    "                # case: not-extended-retweet \n",
    "                else:\n",
    "                    retweet_content = tweet_object[\"retweeted_status\"]\n",
    "\n",
    "                retweet_tweet_text,\\\n",
    "                retweet_hashtags,\\\n",
    "                retweet_user_mentions_id,\\\n",
    "                retweet_user_mentions_name,\\\n",
    "                retweet_short_urls,\\\n",
    "                retweet_expanded_urls = tweet_explorer.get_text_entities(retweet_content)\n",
    "\n",
    "            # case: quote-tweet\n",
    "            if \"quoted_status\" in tweet_object:\n",
    "                is_quote = True\n",
    "                # case: extended-quote \n",
    "                if \"extended_tweet\" in tweet_object[\"quoted_status\"].keys():\n",
    "                    quote_content = tweet_object[\"quoted_status\"][\"extended_tweet\"]\n",
    "                else:\n",
    "                    quote_content = tweet_object[\"quoted_status\"]\n",
    "\n",
    "                quote_tweet_text,\\\n",
    "                quote_hashtags,\\\n",
    "                quote_user_mentions_id,\\\n",
    "                quote_user_mentions_name,\\\n",
    "                quote_short_urls,\\\n",
    "                quote_expanded_urls = tweet_explorer.get_text_entities(quote_content)\n",
    "\n",
    "            if is_retweet and is_quote:\n",
    "                tweet_text = tweet_explorer.add_quote_content(retweet_tweet_text,\\\n",
    "                     quote_tweet_text, add_string=\" \")\n",
    "                hashtags = tweet_explorer.add_quote_content(retweet_hashtags,\\\n",
    "                     quote_hashtags)\n",
    "                user_mentions_id = tweet_explorer.add_quote_content(native_user_mentions_id,\\\n",
    "                     quote_user_mentions_id)\n",
    "                user_mentions_name = tweet_explorer.add_quote_content(native_user_mentions_name,\\\n",
    "                     quote_user_mentions_name)\n",
    "                short_urls = tweet_explorer.add_quote_content(retweet_short_urls,\\\n",
    "                     quote_short_urls)\n",
    "                expanded_urls = tweet_explorer.add_quote_content(retweet_expanded_urls,\\\n",
    "                     quote_expanded_urls)\n",
    "\n",
    "            elif is_retweet and not is_quote:\n",
    "                tweet_text = retweet_tweet_text\n",
    "                hashtags = retweet_hashtags\n",
    "                user_mentions_id = native_user_mentions_id\n",
    "                user_mentions_name = native_user_mentions_name\n",
    "                short_urls = retweet_short_urls\n",
    "                expanded_urls = retweet_expanded_urls\n",
    "\n",
    "            elif not is_retweet and is_quote:\n",
    "                tweet_text = tweet_explorer.add_quote_content(native_tweet_text,\\\n",
    "                     quote_tweet_text, add_string=\" \")\n",
    "                hashtags = tweet_explorer.add_quote_content(native_hashtags,\\\n",
    "                     quote_hashtags)\n",
    "                user_mentions_id = tweet_explorer.add_quote_content(native_user_mentions_id,\\\n",
    "                     quote_user_mentions_id)\n",
    "                user_mentions_name = tweet_explorer.add_quote_content(native_user_mentions_name,\\\n",
    "                     quote_user_mentions_name)\n",
    "                short_urls = tweet_explorer.add_quote_content(native_short_urls,\\\n",
    "                     quote_short_urls)\n",
    "                expanded_urls = tweet_explorer.add_quote_content(native_expanded_urls,\\\n",
    "                     quote_expanded_urls)\n",
    "            else:\n",
    "                tweet_text = native_tweet_text #8\n",
    "                hashtags = native_hashtags #9\n",
    "                user_mentions_id = native_user_mentions_id #10\n",
    "                user_mentions_name = native_user_mentions_name #11\n",
    "                short_urls = native_short_urls #12\n",
    "                expanded_urls = native_expanded_urls #13\n",
    "                        \n",
    "            # retweet and quote status case\n",
    "            if is_retweet:\n",
    "                retweet_id = tweet_object['retweeted_status']['id']\n",
    "                retweet_user_id = tweet_object['retweeted_status']['user']['id']\n",
    "                retweet_user_name = tweet_object['retweeted_status']['user']['screen_name']\n",
    "            else:\n",
    "                retweet_id = None\n",
    "                retweet_user_id = None\n",
    "                retweet_user_name = None\n",
    "\n",
    "            if is_quote:\n",
    "                quote_id = tweet_object['quoted_status']['id']\n",
    "                quote_user_id = tweet_object['quoted_status']['user']['id']\n",
    "                quote_user_name = tweet_object['quoted_status']['user']['screen_name']\n",
    "            else:\n",
    "                quote_id = None\n",
    "                quote_user_id = None\n",
    "                quote_user_name = None\n",
    "            \n",
    "            tweet_info = (tweet_id, user_id, tweet_lang,\\\n",
    "                    tweet_time, source, tweet_text,\\\n",
    "                    quote_count, reply_count, retweet_count,\\\n",
    "                    tweet_favorite_count, hashtags, short_urls,\\\n",
    "                    expanded_urls, user_mentions_id,\\\n",
    "                    in_reply_to_user_id, in_reply_to_user_name,\\\n",
    "                    in_reply_to_status_id, retweet_id,\\\n",
    "                    retweet_user_id, retweet_user_name,\\\n",
    "                    quote_id, quote_user_id,\\\n",
    "                    quote_user_name)\n",
    "            self.cur.execute(\"INSERT INTO tweet_info_historic_v1 \\\n",
    "            VALUES(?, ?, ?, ?, ?, ?, ?, ?, ?, ?, ?, ?, ?, ?,\\\n",
    "             ?, ?, ?, ?, ?, ?, ?, ?, ?);\", tweet_info)\n",
    "            \n",
    "            # user profile information\n",
    "\n",
    "            if user_id in self.unique_user_id_set:\n",
    "                pass\n",
    "            else:\n",
    "                self.unique_user_id_set.add(user_id)\n",
    "                \n",
    "                user_screen_name      = tweet_object['user']['screen_name']\n",
    "                user_name             = tweet_object['user']['name']\n",
    "                user_language         = tweet_object['user']['lang']  \n",
    "                location              = tweet_object['user']['location']\n",
    "                profile_url           = tweet_object['user']['url']\n",
    "                description           = tweet_object['user']['description']\n",
    "                protected             = tweet_object['user']['protected']\n",
    "                verified              = tweet_object['user']['verified']\n",
    "                created_at            = str(pd.to_datetime(tweet_object['user']['created_at']))\n",
    "                friends_count         = tweet_object['user']['friends_count']\n",
    "                followers_count       = tweet_object['user']['followers_count']\n",
    "                favorites_count       = tweet_object['user']['favourites_count']\n",
    "                statuses_count        = tweet_object['user']['statuses_count']\n",
    "\n",
    "                user_information = (user_id, user_screen_name, user_name,\\\n",
    "                       user_language, location, profile_url,\\\n",
    "                       description, protected, verified, created_at,\\\n",
    "                       friends_count, followers_count,\\\n",
    "                       favorites_count, statuses_count)\n",
    "                self.cur.execute(\" INSERT INTO user_info_historic_v1 VALUES(?, ?, ?, ?, ?, ?, ?, ?,\\\n",
    "                ?, ?, ?, ?, ?, ?);\", user_information)\n",
    "            \n",
    "            self.conn.commit()\n",
    "    def close_database_connection(self):\n",
    "        self.conn.close()"
   ]
  },
  {
   "cell_type": "markdown",
   "id": "e9472a2c",
   "metadata": {},
   "source": [
    "# Search Tweets\n",
    "https://developer.twitter.com/en/docs/twitter-api/v1/tweets/search/overview"
   ]
  },
  {
   "cell_type": "markdown",
   "id": "34b1255f",
   "metadata": {},
   "source": [
    "# Rules and Filtering\n",
    "https://developer.twitter.com/en/docs/twitter-api/v1/rules-and-filtering/build-standard-queries"
   ]
  },
  {
   "cell_type": "markdown",
   "id": "4fbec086",
   "metadata": {},
   "source": [
    "# Collect all availble historic tweets in the last seven days"
   ]
  },
  {
   "cell_type": "code",
   "execution_count": null,
   "id": "0338dc62",
   "metadata": {},
   "outputs": [],
   "source": [
    "all_historic_tweets = []\n",
    "for historic_tweets in tweepy.Cursor(api.search, q=\"covid\", count=100).items():\n",
    "    all_historic_tweets.append(historic_tweets)"
   ]
  },
  {
   "cell_type": "code",
   "execution_count": null,
   "id": "42203644",
   "metadata": {},
   "outputs": [],
   "source": [
    "len(all_historic_tweets)"
   ]
  },
  {
   "cell_type": "code",
   "execution_count": null,
   "id": "b2a76d12",
   "metadata": {
    "scrolled": true
   },
   "outputs": [],
   "source": [
    "historic_tweet_collection = []\n",
    "upper_limit = 2000\n",
    "histroic_tweet_count = 0\n",
    "dbm = databaseManager()\n",
    "historic_tweet_count = 0\n",
    "search_query = \"covid\"\n",
    "location = \"35.0853336,-106.6055534,100km\"\n",
    "for tweet in tweepy.Cursor(api.search, \\\n",
    "                                     q=search_query, \\\n",
    "                                     geocode=location,\\\n",
    "                                     count=100).items():\n",
    "    dbm.insert_data(tweet._json)\n",
    "    historic_tweet_count += 1\n",
    "    print(f\"historic_tweet_count: {historic_tweet_count}\")\n",
    "    if historic_tweet_count > upper_limit:\n",
    "        break\n",
    "        \n",
    "print(historic_tweet_count)\n",
    "\n",
    "dbm.close_database_connection()"
   ]
  },
  {
   "cell_type": "markdown",
   "id": "08fccd7e",
   "metadata": {},
   "source": [
    "# Get histroic tweets into dataframe"
   ]
  },
  {
   "cell_type": "code",
   "execution_count": null,
   "id": "d4f76999",
   "metadata": {},
   "outputs": [],
   "source": [
    "conn = sqlite3.connect('tweet_example_historic_v1.db')\n",
    "cur  = conn.cursor()"
   ]
  },
  {
   "cell_type": "code",
   "execution_count": null,
   "id": "f772996c",
   "metadata": {},
   "outputs": [],
   "source": [
    "cur.execute(\"SELECT * FROM tweet_info_historic_v1\")\n",
    "tweet_info_all_result = cur.fetchall()\n",
    "tweet_info_column_names = [description[0] for description in cur.description]\n",
    "tweet_info_dataframe = pd.DataFrame(tweet_info_all_result, \\\n",
    "                                   columns=tweet_info_column_names)\n",
    "print(f\"No of tweet stored: {len(tweet_info_all_result)}, {tweet_info_dataframe.shape[0]}\\n\")\n",
    "\n",
    "\n",
    "\n",
    "cur.execute(\"SELECT * FROM user_info_historic_v1\")\n",
    "user_info_all_result = cur.fetchall()\n",
    "user_info_column_names = [description[0] for description in cur.description]\n",
    "user_info_dataframe = pd.DataFrame(user_info_all_result, \\\n",
    "                                   columns=user_info_column_names)\n",
    "print(f\"No of user info stored: {len(user_info_all_result)}, {user_info_dataframe.shape[0]}\\n\")"
   ]
  },
  {
   "cell_type": "code",
   "execution_count": null,
   "id": "9005f7d7",
   "metadata": {},
   "outputs": [],
   "source": []
  },
  {
   "cell_type": "code",
   "execution_count": null,
   "id": "5cfea857",
   "metadata": {},
   "outputs": [],
   "source": [
    "user_info_dataframe.head()"
   ]
  },
  {
   "cell_type": "code",
   "execution_count": null,
   "id": "39403312",
   "metadata": {},
   "outputs": [],
   "source": [
    "if 'datetime' not in tweet_info_dataframe.columns:\n",
    "    tweet_info_dataframe[\"datetime\"] = pd.to_datetime(tweet_info_dataframe[\"tweet_time\"])\n",
    "    \n",
    "if 'datetime' not in user_info_dataframe.columns:\n",
    "    user_info_dataframe[\"datetime\"] = pd.to_datetime(user_info_dataframe[\"created_at\"])"
   ]
  },
  {
   "cell_type": "code",
   "execution_count": null,
   "id": "1c0b57bf",
   "metadata": {},
   "outputs": [],
   "source": [
    "import warnings\n",
    "from nltk.corpus import stopwords\n",
    "from nltk.tokenize import TweetTokenizer\n",
    "from nltk import FreqDist\n",
    "from nltk.util import ngrams\n",
    "import matplotlib.pyplot as plt\n",
    "import re\n",
    "import string"
   ]
  },
  {
   "cell_type": "code",
   "execution_count": null,
   "id": "4c94df94",
   "metadata": {},
   "outputs": [],
   "source": [
    "cur.execute(\"SELECT tweet_text FROM tweet_info_historic_v1\")\n",
    "all_tweet_text = cur.fetchall()\n",
    "all_tweet_list=[x[0] for x in all_tweet_text]\n",
    "\n",
    "\n",
    "warnings.filterwarnings(\"ignore\")\n",
    "\n",
    "punctuation = [x for x in string.punctuation]\n",
    "stop_words = stopwords.words('english') + punctuation + ['rt', 'via',\"i'm\",\"don't\"]\n",
    "\n",
    "pat1 = r'@[A-Za-z0-9_]+'\n",
    "pat2 = r'https?://[^ ]+'\n",
    "combined_pat = r'|'.join((pat1, pat2))\n",
    "www_pat = r'www.[^ ]+'\n",
    "\n",
    "tokenizer = TweetTokenizer()\n",
    "\n",
    "def tweet_tokenizer(verbatim):\n",
    "    try:\n",
    "        stripped = re.sub(combined_pat, '', verbatim)\n",
    "        stripped = re.sub(www_pat, '', stripped)\n",
    "        lower_case = stripped.lower()\n",
    "        letters_only = re.sub(\"[^a-zA-Z]\", \" \", lower_case)\n",
    "    \n",
    "        all_tokens = tokenizer.tokenize(letters_only)\n",
    "        \n",
    "        # this line filters out all tokens that are entirely non-alphabetic characters\n",
    "        filtered_tokens = [t for t in all_tokens if t.islower()]\n",
    "        # filter out all tokens that are <2 chars\n",
    "        filtered_tokens = [x for x in filtered_tokens if len(x)>1]\n",
    "        \n",
    "        filtered_tokens = [term for term in filtered_tokens if term not in stop_words]\n",
    "        \n",
    "        out_text=' '.join(filtered_tokens)\n",
    "    except IndexError:\n",
    "        out_text=''\n",
    "        filtered_tokens = []\n",
    "    return(out_text)\n",
    "    \n",
    "\n",
    "test_bed = [tweet_tokenizer(x) for x in all_tweet_list]\n",
    "all_concat_str = ' '.join(test_bed)\n",
    "#freq_dist_count=FreqDist(ngrams(all_concat_str.split(), 2))                  \n",
    "freq_dist_count = FreqDist(all_concat_str.split())  \n",
    "\n",
    "\"\"\"\n",
    "to_WC = freq_dist_count.most_common(100)\n",
    "wordcloud_purged = WordCloud(max_font_size=120, max_words=100, background_color=\"white\",\\\n",
    "                      width=800, height=600)\\\n",
    "                      .generate_from_frequencies(dict(to_WC))\n",
    "\n",
    "plt.figure()\n",
    "plt.imshow(wordcloud_purged, interpolation=\"bilinear\")\n",
    "plt.axis(\"off\")\n",
    "plt.show()\n",
    "\n",
    "wordcloud_purged.to_file(\"WC_BIGRAM_LIB_NEG_T100.png\")     \n",
    "\"\"\"\n",
    "a= 3"
   ]
  },
  {
   "cell_type": "code",
   "execution_count": null,
   "id": "5018a654",
   "metadata": {},
   "outputs": [],
   "source": [
    "freq_dist_count"
   ]
  },
  {
   "cell_type": "code",
   "execution_count": null,
   "id": "c0c35dc0",
   "metadata": {
    "scrolled": true
   },
   "outputs": [],
   "source": [
    "tweet_info_dataframe.head()"
   ]
  },
  {
   "cell_type": "code",
   "execution_count": null,
   "id": "7f2f9a93",
   "metadata": {},
   "outputs": [],
   "source": [
    "def get_median_frequency(df, key, frequency='W',\\\n",
    "                        start_date='2009-01-01', end_date='2021-09-20'):\n",
    "    \n",
    "    df = df[[key, 'datetime']].drop_duplicates() \n",
    "    counts_month = df[[key, 'datetime']].groupby(pd.Grouper(key='datetime', freq=frequency)).median()\n",
    "\n",
    "    \n",
    "    return counts_month\n",
    "\n",
    "def get_mean_frequency(df, key, frequency='W',\\\n",
    "                        start_date='2009-01-01', end_date='2021-09-20'):\n",
    "    \n",
    "    df = df[[key, 'datetime']].drop_duplicates() \n",
    "    counts_month = df[[key, 'datetime']].groupby(pd.Grouper(key='datetime', freq=frequency)).mean()\n",
    "    \n",
    "    \n",
    "    return counts_month\n",
    "\n",
    "def get_count_frequency(df, key, frequency='M',\\\n",
    "                        start_date='2009-01-01', end_date='2021-09-01'):\n",
    "    \n",
    "    #df = df[[key, 'datetime']].drop_duplicates() \n",
    "    counts_month = df[[key, 'datetime']].groupby(pd.Grouper(key='datetime', freq=frequency)).count()\n",
    "    \n",
    "    return counts_month"
   ]
  },
  {
   "cell_type": "code",
   "execution_count": null,
   "id": "baddf0a2",
   "metadata": {},
   "outputs": [],
   "source": []
  },
  {
   "cell_type": "code",
   "execution_count": null,
   "id": "e563e1c6",
   "metadata": {},
   "outputs": [],
   "source": [
    "created_per_unit = get_count_frequency(user_info_dataframe,\\\n",
    "                                       key='user_id', frequency='M')\n",
    "\n"
   ]
  },
  {
   "cell_type": "code",
   "execution_count": null,
   "id": "b41b970a",
   "metadata": {},
   "outputs": [],
   "source": [
    "tweet"
   ]
  },
  {
   "cell_type": "code",
   "execution_count": null,
   "id": "b7d9ae9a",
   "metadata": {},
   "outputs": [],
   "source": [
    "\n",
    "pip install networkx"
   ]
  },
  {
   "cell_type": "code",
   "execution_count": null,
   "id": "c72ddc22",
   "metadata": {},
   "outputs": [],
   "source": [
    "import networkx as nx"
   ]
  },
  {
   "cell_type": "code",
   "execution_count": null,
   "id": "b1589d18",
   "metadata": {},
   "outputs": [],
   "source": [
    "pip install decorator==5.0.7"
   ]
  },
  {
   "cell_type": "code",
   "execution_count": null,
   "id": "48a27243",
   "metadata": {},
   "outputs": [],
   "source": [
    "G = nx.Graph()"
   ]
  },
  {
   "cell_type": "code",
   "execution_count": null,
   "id": "2fb83fa0",
   "metadata": {},
   "outputs": [],
   "source": [
    "G = nx.Graph()\n",
    "G.add_nodes_from([1,2,3])\n",
    "G.add_edges_from([(1, 2), (1, 3)])\n",
    "nx.draw(G)"
   ]
  },
  {
   "cell_type": "code",
   "execution_count": null,
   "id": "8b35bafd",
   "metadata": {},
   "outputs": [],
   "source": []
  },
  {
   "cell_type": "code",
   "execution_count": null,
   "id": "9f5de989",
   "metadata": {},
   "outputs": [],
   "source": []
  }
 ],
 "metadata": {
  "kernelspec": {
   "display_name": "Python 3",
   "language": "python",
   "name": "python3"
  },
  "language_info": {
   "codemirror_mode": {
    "name": "ipython",
    "version": 3
   },
   "file_extension": ".py",
   "mimetype": "text/x-python",
   "name": "python",
   "nbconvert_exporter": "python",
   "pygments_lexer": "ipython3",
   "version": "3.8.8"
  }
 },
 "nbformat": 4,
 "nbformat_minor": 5
}
