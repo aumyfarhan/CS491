{
 "cells": [
  {
   "cell_type": "markdown",
   "id": "c64d3fbb",
   "metadata": {},
   "source": [
    "#  Using Twitter Streaming API\n",
    "### We will collect real-time tweet data using Twitter's streaming API\n",
    "We will pass *keywords* or *hashtags* as parameters to filter in related tweets.\n",
    "This is termed as \"\"\n",
    "\n",
    "#### Supporting documents\n",
    "1. https://developer.twitter.com/en/docs/tutorials/stream-tweets-in-real-time\n",
    "2. https://developer.twitter.com/en/docs/twitter-api/tweets/filtered-stream/integrate/build-a-rule"
   ]
  },
  {
   "cell_type": "markdown",
   "id": "146ecb9f",
   "metadata": {},
   "source": [
    "# Import Packages "
   ]
  },
  {
   "cell_type": "code",
   "execution_count": 30,
   "id": "f6906c67",
   "metadata": {},
   "outputs": [],
   "source": [
    "import tweepy\n",
    "import yaml\n",
    "import json\n",
    "from datetime import datetime"
   ]
  },
  {
   "cell_type": "markdown",
   "id": "42298760",
   "metadata": {},
   "source": [
    "# Read twitter Authentication Keys"
   ]
  },
  {
   "cell_type": "code",
   "execution_count": 4,
   "id": "8cd6c988",
   "metadata": {},
   "outputs": [],
   "source": [
    "# yaml file reader funtion\n",
    "def read_yaml(file_path):\n",
    "    with open(file_path, \"r\") as f:\n",
    "        return yaml.safe_load(f)\n",
    "\n",
    "# yaml config file path\n",
    "file_path = \"twitter_api_key_config.yaml\"\n",
    "# read from config file\n",
    "api_credential = read_yaml(file_path)"
   ]
  },
  {
   "cell_type": "markdown",
   "id": "d80a00ba",
   "metadata": {},
   "source": [
    "# Create Twitter Authentication"
   ]
  },
  {
   "cell_type": "code",
   "execution_count": 5,
   "id": "528d5af5",
   "metadata": {},
   "outputs": [],
   "source": [
    "# API authentication\n",
    "auth = tweepy.OAuthHandler(api_credential[\"api_key\"], \\\n",
    "                           api_credential[\"api_secret_token\"])\n",
    "auth.set_access_token(api_credential[\"access_token\"], \\\n",
    "                      api_credential[\"access_token_secret\"])\n",
    "api = tweepy.API(auth, wait_on_rate_limit=True)"
   ]
  },
  {
   "cell_type": "markdown",
   "id": "9013956c",
   "metadata": {},
   "source": [
    "# Define a StreamListener Object (code walkthrough)"
   ]
  },
  {
   "cell_type": "code",
   "execution_count": 35,
   "id": "d42926d0",
   "metadata": {},
   "outputs": [],
   "source": [
    "# override tweepy.StreamListener to add logic to on_status\n",
    "class MyStreamListenerV1(tweepy.StreamListener):\n",
    "    def __init__(self):\n",
    "        super(MyStreamListenerV1, self).__init__()\n",
    "        self.counter = 0\n",
    "        pass\n",
    "    \n",
    "    def on_status(self, status):\n",
    "        self.counter += 1\n",
    "        print(f'Tweet No: {self.counter}. status.text: {status.text}\\n')\n",
    "        if self.counter >50:\n",
    "            print(status)\n",
    "            return False\n",
    "        \n",
    "    def on_data(self, data):\n",
    "        self.counter += 1\n",
    "        print(f'Tweet No: {self.counter}. data: {json.loads(data)[\"text\"]}\\n')\n",
    "        if self.counter >50:\n",
    "            print(data)\n",
    "            return False\n",
    "        \n",
    "#     def on_data(self, data):\n",
    "#         self.counter += 1\n",
    "#         print(f'Tweet No: {self.counter}. status.text: {data.text}\\n')\n",
    "#         if self.counter >50:\n",
    "#             print(data)\n",
    "#             return False"
   ]
  },
  {
   "cell_type": "markdown",
   "id": "518b5f92",
   "metadata": {},
   "source": [
    "# Define a StreamListener Object (code dump)"
   ]
  },
  {
   "cell_type": "code",
   "execution_count": null,
   "id": "b34a59ff",
   "metadata": {},
   "outputs": [],
   "source": [
    "# override tweepy.StreamListener to add logic to on_status\n",
    "class MyStreamListener(tweepy.StreamListener):\n",
    "    def __init__(self, listen_time=60, output_file=None):\n",
    "        super(MyStreamListener, self).__init__()\n",
    "        self.counter = 0\n",
    "        print(\"Initialized Tweepy StreamListener.\")\n",
    "        self.start_time = datetime.now()\n",
    "        self.current_time = datetime.now()\n",
    "        self.listen_time = listen_time\n",
    "        self.output_file = output_file\n",
    "        \n",
    "    def on_data(self, data):\n",
    "        self.current_time = datetime.now()\n",
    "        time_elapsed = (self.current_time - self.start_time).total_seconds()\n",
    "        if time_elapsed < self.listen_time:\n",
    "            try:\n",
    "                self.counter += 1\n",
    "                print(f'Data no: {self.counter}. Data: {data}\\n\\n\\n\\n')\n",
    "                self.output_file.write(str(data))\n",
    "            except Exception as e:\n",
    "                print(f\"On data Exception:{e}.\")\n",
    "        else:\n",
    "            print(f\"Stream listen time period ended. Total listen time: {self.listen_time} seconds.\")\n",
    "            return False\n",
    "    s\n",
    "    \"\"\"\n",
    "    def on_status(self, status):\n",
    "        self.counter += 1\n",
    "        print(f'Tweet No: {self.counter}. status.text: {status.text}\\n'\\\n",
    "              f'status: {status}\\n\\n\\n')\n",
    "    \"\"\"\n",
    "    \"\"\"\n",
    "    def on_data(self, data):\n",
    "        self.counter += 1\n",
    "        print(f'Data no: {self.counter}. Data: {data}\\n\\n\\n\\n')\n",
    "    \"\"\"\n",
    "    # handling Errors\n",
    "    def on_error(self, status_code):\n",
    "        print(f\"status_code: {status_code}\")\n",
    "        if status_code == 420:\n",
    "            #returning False in on_error disconnects the stream\n",
    "            return False"
   ]
  },
  {
   "cell_type": "markdown",
   "id": "4fa8214f",
   "metadata": {},
   "source": [
    "# Create a Stream"
   ]
  },
  {
   "cell_type": "code",
   "execution_count": 36,
   "id": "2a4ea503",
   "metadata": {},
   "outputs": [],
   "source": [
    "myStreamListenerV1 = MyStreamListenerV1()\n",
    "myStreamV1 = tweepy.Stream(api.auth, myStreamListenerV1)"
   ]
  },
  {
   "cell_type": "markdown",
   "id": "3cf81168",
   "metadata": {},
   "source": [
    "# Start a Stream"
   ]
  },
  {
   "cell_type": "code",
   "execution_count": 37,
   "id": "f6de9c8f",
   "metadata": {},
   "outputs": [
    {
     "name": "stdout",
     "output_type": "stream",
     "text": [
      "Stream Filter\n",
      "Tweet No: 1. data: RT @nytimes: Watch: The New York area was under a state of emergency on Thursday after the remnants of Hurricane Ida led to at least 14 dea…\n",
      "\n",
      "Tweet No: 2. data: RT @manizegos: i don’t care how much your stomach turning, do you know how evil you gotta be to order takeout in the middle of a flooding\n",
      "\n",
      "Tweet No: 3. data: RT @KCARMOUCHE: If you are a Hurricane Ida evacuee in Atlanta, Pull Up 2mar @ 11:30AM at the College Park Fire Station #3 across from Count…\n",
      "\n",
      "Tweet No: 4. data: RT @njdotcom: TD Bank Ballpark in Bridgewater was underwater following heavy rainfall from Hurricane Ida remnants. The park is home to the…\n",
      "\n",
      "Tweet No: 5. data: RT @TheDAnderson_: From Nola to NYC….no fucking way\n",
      "\n",
      "Tweet No: 6. data: IDA has to get TF on!! Like, how are you still impacting lives and homes from Louisiana to New York? Girl, read the room.\n",
      "\n",
      "Tweet No: 7. data: @ami_notmiami @lucklee1972 Hi Ami, as far as I know it happened yesterday in NYC by the tropical storm IDA? or something...🤔Good night!👋😀🌟🌛\n",
      "\n",
      "Tweet No: 8. data: given the recent flooding from ida and the way climate change will make these kinds of storms worse and more freque… https://t.co/gtIlE6fiPc\n",
      "\n",
      "Tweet No: 9. data: RT @Phil_Lewis_: whoever ordered delivery in this weather will not see heaven\n",
      "\n",
      "Tweet No: 10. data: RT @Phil_Lewis_: whoever ordered delivery in this weather will not see heaven\n",
      "\n",
      "Tweet No: 11. data: @pulte $taztheduke my family needs it after Hurricane Ida displaced them 🤞🏾🤞🏾\n",
      "\n",
      "Tweet No: 12. data: RT @IamGMJohnson: A reminder that the MTA spent 260 million dollars to add 500 more cops instead of ensuring the subways didn’t look like a…\n",
      "\n",
      "Tweet No: 13. data: RT @QasimRashid: A storm has shut down every single subway line in NYC. Hurricane Ida has knocked out electricity for millions for weeks. L…\n",
      "\n",
      "Tweet No: 14. data: RT @IamGMJohnson: A reminder that the MTA spent 260 million dollars to add 500 more cops instead of ensuring the subways didn’t look like a…\n",
      "\n",
      "Tweet No: 15. data: RT @drmistercody: Nice dystopia you got there. Be a shame if someone were to highlight it. https://t.co/5G5unA4ceg\n",
      "\n",
      "Tweet No: 16. data: RT @NPR: A bus driver in Queens, N.Y., managed to get passengers safely through flooding caused by the remnants of Ida.\n",
      "\n",
      "Floodwaters halted…\n",
      "\n",
      "Tweet No: 17. data: RT @IamGMJohnson: A reminder that the MTA spent 260 million dollars to add 500 more cops instead of ensuring the subways didn’t look like a…\n",
      "\n",
      "Tweet No: 18. data: Just wait for those Ida charges to hit.\n",
      "\n",
      "Tweet No: 19. data: RT @BarackObama: Michelle and I are thinking of everyone affected by Hurricane Ida, and we're grateful to the first responders doing heroic…\n",
      "\n",
      "Tweet No: 20. data: Severe #Flooding from Storm #Ida Hits #NewYork &amp; Jersey, 9 Reported Dead  https://t.co/wun6QKbBw1\n",
      "\n",
      "Tweet No: 21. data: RT @PsychicxGoddess: This is so symbolic of late-stage capitalism, it feels like an art piece. The flooding from climate change, people sti…\n",
      "\n",
      "Tweet No: 22. data: The person who actually ordered food delivery in this disaster should never be allowed to order anything to their h… https://t.co/t3NSSlqSPq\n",
      "\n",
      "Tweet No: 23. data: RT @DavidBegnaud: Knickerbocker Avenue in Brooklyn\n",
      "New York City #Ida \n",
      " https://t.co/zAQ8kIIDi4\n",
      "\n",
      "Tweet No: 24. data: NEW YORK AND NEW JERSEY FLOODS HIT CARS, STREETS AND SUBWAY\n",
      "\n",
      "‘… hit by record rainfall and flash flooding as a resu… https://t.co/ireL8hmXee\n",
      "\n",
      "Tweet No: 25. data: RT @brian4NY: NEW! EXCLUSIVE VIDEO #IDA floods baggage level of Newark Intl (EWR) Terminal B, possibly a first, part of major airport disru…\n",
      "\n",
      "Tweet No: 26. data: RT @njdotcom: Multiple tornadoes may have touched down in New Jersey as the remnants of Hurricane Ida ripped through the state Wednesday ev…\n",
      "\n",
      "Tweet No: 27. data: RT @Phil_Lewis_: whoever ordered delivery in this weather will not see heaven\n",
      "\n",
      "Tweet No: 28. data: At least 14 dead after flooding overwhelms NYC, Northeast; states of emergency declared. Prayers out. https://t.co/6CW8CvpWXd via @usatoday\n",
      "\n",
      "Tweet No: 29. data: At least 22 people have died in relation to remnants of Hurricane Ida hitting the northeast overnight. https://t.co/Ipyjai3MwH\n",
      "\n",
      "Tweet No: 30. data: RT @CTDEMHS: ⚠️As the remnants of Ida leave the state, remember to steer clear of flooded roadways and standing water https://t.co/bODwz6x9…\n",
      "\n",
      "Tweet No: 31. data: RT @GuillaumeAuda: Une des images de la nuit à #NewYork. Un homme à la dérive sur son matelas gonflable, en train de fumer sa chicha 😵‍💫!…\n",
      "\n",
      "Tweet No: 32. data: @booxyale es un viaje de ida nomas ¡¡¡\n",
      "\n",
      "Tweet No: 33. data: RT @Phil_Lewis_: whoever ordered delivery in this weather will not see heaven\n",
      "\n",
      "Tweet No: 34. data: RT @IamGMJohnson: A reminder that the MTA spent 260 million dollars to add 500 more cops instead of ensuring the subways didn’t look like a…\n",
      "\n",
      "Tweet No: 35. data: @NikSamotracia Pensé por un momento que era \"La tormenta Ida\".\n",
      "\n",
      "Tweet No: 36. data: RT @IanMcNultyNOLA: They’re giving away everything in the kitchen at Wishing Town Bakery Cafe in Metairie (17th Street and N Hullen), after…\n",
      "\n",
      "Tweet No: 37. data: @pulte at a time like this I need it, hurricane ida then mess me up bad.\n",
      "\n",
      "Tweet No: 38. data: RT @Cleansniper23: The National Weather service has issued an EXTREMELY RARE  flash flood Emergency for the entirety of New York. Let’s PRA…\n",
      "\n",
      "Tweet No: 39. data: RT @njdotcom: TD Bank Ballpark in Bridgewater was underwater following heavy rainfall from Hurricane Ida remnants. The park is home to the…\n",
      "\n",
      "Tweet No: 40. data: RT @IamGMJohnson: A reminder that the MTA spent 260 million dollars to add 500 more cops instead of ensuring the subways didn’t look like a…\n",
      "\n",
      "Tweet No: 41. data: RT @CBSNews: The remnants of Hurricane Ida brought flash flooding to New York City’s subway stations on Wednesday, inundating platforms and…\n",
      "\n",
      "Tweet No: 42. data: RT @NBCNews: BREAKING UPDATE: At least 22 people are dead after the remnants of Hurricane Ida battered New York and New Jersey with tornado…\n",
      "\n",
      "Tweet No: 43. data: Los del dominos pizza del vsj:\n",
      "\n",
      "Tweet No: 44. data: RT @Phil_Lewis_: whoever ordered delivery in this weather will not see heaven\n",
      "\n",
      "Tweet No: 45. data: RT @EfectoCocuyo: #SepaQue Los remanentes del huracán Ida azotaron este miércoles por la noche la ciudad de Nueva York y sus alrededores pr…\n",
      "\n",
      "Tweet No: 46. data: RT @wxbrad: #Ida power outage in New Orleans as seen from space before and after. #lawx #nola https://t.co/dplODcHBH7\n",
      "\n",
      "Tweet No: 47. data: RT @MaryHeglar: Hurricane Ida and Caldor Fire are not “previews of climate change.” They are the view.\n",
      "\n",
      "Tweet No: 48. data: RT @IamGMJohnson: A reminder that the MTA spent 260 million dollars to add 500 more cops instead of ensuring the subways didn’t look like a…\n",
      "\n",
      "Tweet No: 49. data: RT @nytimes: Watch: The New York area was under a state of emergency on Thursday after the remnants of Hurricane Ida led to at least 14 dea…\n",
      "\n",
      "Tweet No: 50. data: I wonder if the Biden Administration will use Hurricane Ida to start moving affected citizens to FEMA camps? Wouldn… https://t.co/PjDZ0KksFT\n",
      "\n",
      "Tweet No: 51. data: RT @lobs: Tempête Ida : le bilan s’alourdit à 13 morts à New York https://t.co/3tqFozmSsj https://t.co/X5lnTEgONI\n",
      "\n",
      "error in stream filter name 'status' is not defined\n"
     ]
    }
   ],
   "source": [
    "keywords = ['Ida']\n",
    "try:\n",
    "    print(\"Stream Filter\")\n",
    "    myStreamV1.filter(track=keywords)\n",
    "    print(\"DONE\")\n",
    "except Exception as e:\n",
    "    print(f\"error in stream filter {e}\")"
   ]
  },
  {
   "cell_type": "code",
   "execution_count": null,
   "id": "a9319fc2",
   "metadata": {},
   "outputs": [],
   "source": []
  }
 ],
 "metadata": {
  "kernelspec": {
   "display_name": "Python 3",
   "language": "python",
   "name": "python3"
  },
  "language_info": {
   "codemirror_mode": {
    "name": "ipython",
    "version": 3
   },
   "file_extension": ".py",
   "mimetype": "text/x-python",
   "name": "python",
   "nbconvert_exporter": "python",
   "pygments_lexer": "ipython3",
   "version": "3.8.8"
  }
 },
 "nbformat": 4,
 "nbformat_minor": 5
}
