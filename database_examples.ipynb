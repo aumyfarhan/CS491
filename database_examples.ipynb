{
 "cells": [
  {
   "cell_type": "markdown",
   "id": "5d98bb4c",
   "metadata": {},
   "source": [
    "# In this notebook example, we will give a brief overview of SQLite.\n",
    "#### SQLite emphasizes economy, efficiency, reliability, independence, and simplicity. \n",
    "#### SQLite does not compete with client/server databases\n",
    "\n",
    "### 1. SQLite is built-in as a Python library (not even pip install required)\n",
    "### 2. Don’t need to install any server-side/client-side software\n",
    "### 3. Don’t need to keep something running as a service\n",
    "___\n",
    "___\n"
   ]
  },
  {
   "cell_type": "markdown",
   "id": "908bae1a",
   "metadata": {},
   "source": [
    "# import packages"
   ]
  },
  {
   "cell_type": "code",
   "execution_count": null,
   "id": "554b4297",
   "metadata": {},
   "outputs": [],
   "source": [
    "import sqlite3"
   ]
  },
  {
   "cell_type": "markdown",
   "id": "2199e28c",
   "metadata": {},
   "source": [
    "# establish a database connection\n",
    "If the file already exists, the connect function will simply connect to that file.\n",
    "Once we have a Connection, we can create a Cursor object and call its execute() method to perform SQL commands."
   ]
  },
  {
   "cell_type": "code",
   "execution_count": null,
   "id": "9440be52",
   "metadata": {},
   "outputs": [],
   "source": [
    "# establish a database connection\n",
    "conn = sqlite3.connect('tweet_example.db')"
   ]
  },
  {
   "cell_type": "markdown",
   "id": "1e487d64",
   "metadata": {},
   "source": [
    "# the above command would create a database in the current working directory. If we want to specify a specific directory, we could write:\n",
    "    conn = sqlite3.connect(r'PATH-TO-YOUR-DIRECTORY/tweet_example.db')"
   ]
  },
  {
   "cell_type": "code",
   "execution_count": null,
   "id": "7007a5a7",
   "metadata": {},
   "outputs": [],
   "source": [
    "# conn = sqlite3.connect(r'/Users/farhan/Downloads/CS491_SocialMediaComputing/orders.db')"
   ]
  },
  {
   "cell_type": "markdown",
   "id": "ea13a3d4",
   "metadata": {},
   "source": [
    "Note: Notice that we included the letter “r” before the string that contains this path. \n",
    "This lets Python know that we’re working with a raw string, meaning that the “/” won’t \n",
    "be used to escape characters. More [link](https://docs.python.org/3/reference/lexical_analysis.html)"
   ]
  },
  {
   "cell_type": "markdown",
   "id": "7066f4cc",
   "metadata": {},
   "source": [
    "# in-Memory Databases\n",
    "We can generate in memory databases using SQLite that will exist only in RAM, which is a great way to create database for test purposes.\n",
    "\n",
    "    conn = sqlite3.connect(:memory:)"
   ]
  },
  {
   "cell_type": "markdown",
   "id": "7b39278b",
   "metadata": {},
   "source": [
    "# creating a cursor object\n",
    "Creating a cursor object allows us to execute SQL queries against the connected database."
   ]
  },
  {
   "cell_type": "code",
   "execution_count": null,
   "id": "33506dc6",
   "metadata": {},
   "outputs": [],
   "source": [
    "cur = conn.cursor()"
   ]
  },
  {
   "cell_type": "markdown",
   "id": "f2f3005c",
   "metadata": {},
   "source": [
    "# once we have created a cursor object, we can run SQL queries followingly:\n",
    "    cur.execute(\"YOUR-SQL-QUERY-HERE;\")"
   ]
  },
  {
   "cell_type": "code",
   "execution_count": null,
   "id": "713837e1",
   "metadata": {},
   "outputs": [],
   "source": [
    "sql_query = \"\"\"CREATE TABLE IF NOT EXISTS user_info(\n",
    "               userid BIGINT PRIMARY KEY,\n",
    "               screen_name TEXT,\n",
    "               created_at DATETIME,\n",
    "               followers_count BIGINT,\n",
    "               friends_count BIGINT);\n",
    "            \"\"\"\n",
    "cur.execute(sql_query)\n",
    "conn.commit()"
   ]
  },
  {
   "cell_type": "markdown",
   "id": "869d0b7a",
   "metadata": {},
   "source": [
    "# SQLite Data Types [link](https://www.tutorialspoint.com/sqlite/sqlite_data_types.htm)"
   ]
  },
  {
   "cell_type": "markdown",
   "id": "e4779530",
   "metadata": {},
   "source": [
    "![SQLite Data Types](sqlite_data_types.png)"
   ]
  },
  {
   "cell_type": "markdown",
   "id": "165557e1",
   "metadata": {},
   "source": [
    "# SQLite Date and Time Datatype"
   ]
  },
  {
   "cell_type": "markdown",
   "id": "c0012ea8",
   "metadata": {},
   "source": [
    "![SQLite Date and Time Datatypes](sqlite_date_style.png)"
   ]
  },
  {
   "cell_type": "markdown",
   "id": "9b694f49",
   "metadata": {},
   "source": [
    "# insert data"
   ]
  },
  {
   "cell_type": "code",
   "execution_count": null,
   "id": "38b98847",
   "metadata": {},
   "outputs": [],
   "source": [
    "insert_query = \"\"\"INSERT INTO user_info(userid, screen_name, created_at, followers_count, friends_count) \n",
    "   VALUES(00001, 'Cristiano', '2010-11-22 10:23:12.123', 123452324, 232);\"\"\"\n",
    "cur.execute(insert_query)\n",
    "conn.commit()"
   ]
  },
  {
   "cell_type": "markdown",
   "id": "107bf830",
   "metadata": {},
   "source": [
    "# insert data from a variable"
   ]
  },
  {
   "cell_type": "code",
   "execution_count": null,
   "id": "c983136e",
   "metadata": {},
   "outputs": [],
   "source": [
    "user_info_value = (12002, 'Messi', '2020-11-22 10:23:12.123', 12, 2)\n",
    "cur.execute(\"INSERT INTO user_info VALUES(?, ?, ?, ?, ?);\", user_info_value)\n",
    "conn.commit()"
   ]
  },
  {
   "cell_type": "markdown",
   "id": "bd092405",
   "metadata": {},
   "source": [
    "# insert multiple entries at a time"
   ]
  },
  {
   "cell_type": "code",
   "execution_count": null,
   "id": "2e0d2183",
   "metadata": {},
   "outputs": [],
   "source": [
    "user_info_value_list = [(13002, 'Roonie', '2012-10-22 10:23:12.123', 232312, 342), \n",
    "                        (13003, 'Rivaldo', '2013-10-22 10:33:12.333', 4325, 3231)]\n",
    "cur.executemany(\"INSERT INTO user_info VALUES(?, ?, ?, ?, ?);\", user_info_value_list)\n",
    "conn.commit()"
   ]
  },
  {
   "cell_type": "markdown",
   "id": "3c59f6d2",
   "metadata": {},
   "source": [
    "# We can do multiple cur.execut() before doing conn.commit()\n",
    "    cur.execute('query')\n",
    "    cur.execute('query')\n",
    "    cur.execute('query')\n",
    "    conn.commit()"
   ]
  },
  {
   "cell_type": "markdown",
   "id": "b36f0893",
   "metadata": {},
   "source": [
    "# fetch results from the database (a single entry)"
   ]
  },
  {
   "cell_type": "code",
   "execution_count": null,
   "id": "c5eedbc8",
   "metadata": {},
   "outputs": [],
   "source": [
    "cur.execute(\"SELECT * FROM user_info;\")\n",
    "one_result = cur.fetchone()\n",
    "print(one_result)"
   ]
  },
  {
   "cell_type": "markdown",
   "id": "a76358c2",
   "metadata": {},
   "source": [
    "# fetch multiple results from the database"
   ]
  },
  {
   "cell_type": "code",
   "execution_count": null,
   "id": "80b66d92",
   "metadata": {},
   "outputs": [],
   "source": [
    "cur.execute(\"SELECT * FROM user_info;\")\n",
    "three_results = cur.fetchmany(3)\n",
    "print(three_results)"
   ]
  },
  {
   "cell_type": "markdown",
   "id": "0cb8779d",
   "metadata": {},
   "source": [
    "# fetch all the rows/entries from the database"
   ]
  },
  {
   "cell_type": "code",
   "execution_count": null,
   "id": "deea9929",
   "metadata": {},
   "outputs": [],
   "source": [
    "cur.execute(\"SELECT * FROM user_info;\")\n",
    "all_results = cur.fetchall()\n",
    "print(all_results)"
   ]
  },
  {
   "cell_type": "markdown",
   "id": "6c4eeae4",
   "metadata": {},
   "source": [
    "# mention specific columns to fetch"
   ]
  },
  {
   "cell_type": "code",
   "execution_count": null,
   "id": "0e53cb6c",
   "metadata": {},
   "outputs": [],
   "source": [
    "cur.execute(\"SELECT userid, created_at, followers_count FROM user_info;\")\n",
    "all_results_selected_columns = cur.fetchall()\n",
    "print(all_results_selected_columns)"
   ]
  },
  {
   "cell_type": "markdown",
   "id": "1241d8ca",
   "metadata": {},
   "source": [
    "# filter and extract data from the database"
   ]
  },
  {
   "cell_type": "code",
   "execution_count": null,
   "id": "528b39eb",
   "metadata": {},
   "outputs": [],
   "source": [
    "cur.execute(\"select * FROM user_info WHERE userid=12002;\")\n",
    "filtered_result = cur.fetchall()\n",
    "print(filtered_result)"
   ]
  },
  {
   "cell_type": "markdown",
   "id": "2cfa5f3a",
   "metadata": {},
   "source": [
    "# delete data from the database"
   ]
  },
  {
   "cell_type": "code",
   "execution_count": null,
   "id": "80dedad4",
   "metadata": {},
   "outputs": [],
   "source": [
    "cur.execute(\"DELETE FROM user_info WHERE userid=12002;\")\n",
    "conn.commit()"
   ]
  },
  {
   "cell_type": "code",
   "execution_count": null,
   "id": "1ef41291",
   "metadata": {},
   "outputs": [],
   "source": [
    "cur.execute(\"SELECT * FROM user_info;\")\n",
    "all_results = cur.fetchall()\n",
    "print(all_results)"
   ]
  },
  {
   "cell_type": "markdown",
   "id": "a079e1bd",
   "metadata": {},
   "source": [
    "# close the database conenction"
   ]
  },
  {
   "cell_type": "code",
   "execution_count": null,
   "id": "bedbd392",
   "metadata": {},
   "outputs": [],
   "source": [
    "conn.close()"
   ]
  },
  {
   "cell_type": "code",
   "execution_count": null,
   "id": "d3813af4",
   "metadata": {},
   "outputs": [],
   "source": []
  }
 ],
 "metadata": {
  "kernelspec": {
   "display_name": "Python 3",
   "language": "python",
   "name": "python3"
  },
  "language_info": {
   "codemirror_mode": {
    "name": "ipython",
    "version": 3
   },
   "file_extension": ".py",
   "mimetype": "text/x-python",
   "name": "python",
   "nbconvert_exporter": "python",
   "pygments_lexer": "ipython3",
   "version": "3.8.8"
  }
 },
 "nbformat": 4,
 "nbformat_minor": 5
}
