{
 "cells": [
  {
   "cell_type": "markdown",
   "id": "92548ff0",
   "metadata": {},
   "source": [
    "# Using Twitter's RESTful API"
   ]
  },
  {
   "cell_type": "markdown",
   "id": "25cc8cac",
   "metadata": {},
   "source": [
    "# Import Packages"
   ]
  },
  {
   "cell_type": "code",
   "execution_count": 14,
   "id": "37d45631",
   "metadata": {},
   "outputs": [],
   "source": [
    "# import packages\n",
    "import tweepy\n",
    "import yaml\n",
    "import json"
   ]
  },
  {
   "cell_type": "markdown",
   "id": "6756fcc5",
   "metadata": {},
   "source": [
    "# Read Twitter Authentication Keys"
   ]
  },
  {
   "cell_type": "code",
   "execution_count": 6,
   "id": "7bd48675",
   "metadata": {},
   "outputs": [],
   "source": [
    "# yaml file reader funtion\n",
    "def read_yaml(file_path):\n",
    "    with open(file_path, \"r\") as f:\n",
    "        return yaml.safe_load(f)\n",
    "\n",
    "# yaml config file path\n",
    "file_path = \"twitter_api_key_config.yaml\"\n",
    "# read from config file\n",
    "api_credential = read_yaml(file_path)"
   ]
  },
  {
   "cell_type": "markdown",
   "id": "fb4b3f76",
   "metadata": {},
   "source": [
    "# Create Twitter Authentication"
   ]
  },
  {
   "cell_type": "code",
   "execution_count": 9,
   "id": "86fd9274",
   "metadata": {},
   "outputs": [],
   "source": [
    "# API authentication\n",
    "auth = tweepy.OAuthHandler(api_credential[\"api_key\"], \\\n",
    "                           api_credential[\"api_secret_token\"])\n",
    "auth.set_access_token(api_credential[\"access_token\"], \\\n",
    "                      api_credential[\"access_token_secret\"])\n",
    "API = tweepy.API(auth, wait_on_rate_limit=True)"
   ]
  },
  {
   "cell_type": "markdown",
   "id": "8d9bdf8e",
   "metadata": {},
   "source": [
    "# Collect a user's information using (using user_id or screen_name)\n",
    "**Syntax**: API.get_user(id/user_id/screen_name) <br/>\n",
    "**parameters**: either, \"user_id\" or \"screen_name\""
   ]
  },
  {
   "cell_type": "markdown",
   "id": "25d94b8a",
   "metadata": {},
   "source": [
    "### User info using user_id "
   ]
  },
  {
   "cell_type": "code",
   "execution_count": 11,
   "id": "69b96ac4",
   "metadata": {},
   "outputs": [
    {
     "name": "stdout",
     "output_type": "stream",
     "text": [
      "{'id': 155659213, 'id_str': '155659213', 'name': 'Cristiano Ronaldo', 'screen_name': 'Cristiano', 'location': 'Turim, Piemonte', 'profile_location': None, 'description': 'This Privacy Policy addresses the collection and use of personal information - https://t.co/Jp6yh1T58c', 'url': 'https://t.co/VcAXB9ryty', 'entities': {'url': {'urls': [{'url': 'https://t.co/VcAXB9ryty', 'expanded_url': 'http://www.facebook.com/cristiano', 'display_url': 'facebook.com/cristiano', 'indices': [0, 23]}]}, 'description': {'urls': [{'url': 'https://t.co/Jp6yh1T58c', 'expanded_url': 'http://www.cristianoronaldo.com/terms', 'display_url': 'cristianoronaldo.com/terms', 'indices': [79, 102]}]}}, 'protected': False, 'followers_count': 94034192, 'friends_count': 57, 'listed_count': 84128, 'created_at': 'Mon Jun 14 19:09:20 +0000 2010', 'favourites_count': 2, 'utc_offset': None, 'time_zone': None, 'geo_enabled': True, 'verified': True, 'statuses_count': 3708, 'lang': None, 'status': {'created_at': 'Thu Sep 02 15:40:56 +0000 2021', 'id': 1433454907353411586, 'id_str': '1433454907353411586', 'text': 'Another historic night! Unforgettable 🙏🏽\\n\\n111⚽️🤭 https://t.co/Eq4ko7bHfP', 'truncated': False, 'entities': {'hashtags': [], 'symbols': [], 'user_mentions': [], 'urls': [], 'media': [{'id': 1433454901573652487, 'id_str': '1433454901573652487', 'indices': [49, 72], 'media_url': 'http://pbs.twimg.com/media/E-Sno2HXEAc5NgO.jpg', 'media_url_https': 'https://pbs.twimg.com/media/E-Sno2HXEAc5NgO.jpg', 'url': 'https://t.co/Eq4ko7bHfP', 'display_url': 'pic.twitter.com/Eq4ko7bHfP', 'expanded_url': 'https://twitter.com/Cristiano/status/1433454907353411586/photo/1', 'type': 'photo', 'sizes': {'thumb': {'w': 150, 'h': 150, 'resize': 'crop'}, 'small': {'w': 549, 'h': 680, 'resize': 'fit'}, 'large': {'w': 828, 'h': 1026, 'resize': 'fit'}, 'medium': {'w': 828, 'h': 1026, 'resize': 'fit'}}}]}, 'extended_entities': {'media': [{'id': 1433454901573652487, 'id_str': '1433454901573652487', 'indices': [49, 72], 'media_url': 'http://pbs.twimg.com/media/E-Sno2HXEAc5NgO.jpg', 'media_url_https': 'https://pbs.twimg.com/media/E-Sno2HXEAc5NgO.jpg', 'url': 'https://t.co/Eq4ko7bHfP', 'display_url': 'pic.twitter.com/Eq4ko7bHfP', 'expanded_url': 'https://twitter.com/Cristiano/status/1433454907353411586/photo/1', 'type': 'photo', 'sizes': {'thumb': {'w': 150, 'h': 150, 'resize': 'crop'}, 'small': {'w': 549, 'h': 680, 'resize': 'fit'}, 'large': {'w': 828, 'h': 1026, 'resize': 'fit'}, 'medium': {'w': 828, 'h': 1026, 'resize': 'fit'}}}]}, 'source': '<a href=\"http://twitter.com/download/iphone\" rel=\"nofollow\">Twitter for iPhone</a>', 'in_reply_to_status_id': None, 'in_reply_to_status_id_str': None, 'in_reply_to_user_id': None, 'in_reply_to_user_id_str': None, 'in_reply_to_screen_name': None, 'geo': None, 'coordinates': None, 'place': None, 'contributors': None, 'is_quote_status': False, 'retweet_count': 17483, 'favorite_count': 136597, 'favorited': False, 'retweeted': False, 'possibly_sensitive': False, 'lang': 'en'}, 'contributors_enabled': False, 'is_translator': False, 'is_translation_enabled': True, 'profile_background_color': '080101', 'profile_background_image_url': 'http://abs.twimg.com/images/themes/theme1/bg.png', 'profile_background_image_url_https': 'https://abs.twimg.com/images/themes/theme1/bg.png', 'profile_background_tile': False, 'profile_image_url': 'http://pbs.twimg.com/profile_images/1157313327867092993/a09TxL_1_normal.jpg', 'profile_image_url_https': 'https://pbs.twimg.com/profile_images/1157313327867092993/a09TxL_1_normal.jpg', 'profile_banner_url': 'https://pbs.twimg.com/profile_banners/155659213/1564759975', 'profile_link_color': '1643C9', 'profile_sidebar_border_color': 'FFFFFF', 'profile_sidebar_fill_color': '838387', 'profile_text_color': '0D0D0D', 'profile_use_background_image': True, 'has_extended_profile': False, 'default_profile': False, 'default_profile_image': False, 'following': False, 'follow_request_sent': False, 'notifications': False, 'translator_type': 'regular', 'withheld_in_countries': []}\n"
     ]
    }
   ],
   "source": [
    "cristiano_user_id = 155659213\n",
    "user_object_via_user_id = API.get_user(user_id=cristiano_user_id)\n",
    "print(user_object_via_user_id._json)"
   ]
  },
  {
   "cell_type": "code",
   "execution_count": null,
   "id": "cf35374c",
   "metadata": {},
   "outputs": [],
   "source": []
  },
  {
   "cell_type": "markdown",
   "id": "4c7276e0",
   "metadata": {},
   "source": [
    "### User info using screen_name "
   ]
  },
  {
   "cell_type": "code",
   "execution_count": 12,
   "id": "dad49ba1",
   "metadata": {},
   "outputs": [
    {
     "name": "stdout",
     "output_type": "stream",
     "text": [
      "User(_api=<tweepy.api.API object at 0x7f90668efd00>, _json={'id': 155659213, 'id_str': '155659213', 'name': 'Cristiano Ronaldo', 'screen_name': 'Cristiano', 'location': 'Turim, Piemonte', 'profile_location': None, 'description': 'This Privacy Policy addresses the collection and use of personal information - https://t.co/Jp6yh1T58c', 'url': 'https://t.co/VcAXB9ryty', 'entities': {'url': {'urls': [{'url': 'https://t.co/VcAXB9ryty', 'expanded_url': 'http://www.facebook.com/cristiano', 'display_url': 'facebook.com/cristiano', 'indices': [0, 23]}]}, 'description': {'urls': [{'url': 'https://t.co/Jp6yh1T58c', 'expanded_url': 'http://www.cristianoronaldo.com/terms', 'display_url': 'cristianoronaldo.com/terms', 'indices': [79, 102]}]}}, 'protected': False, 'followers_count': 94034255, 'friends_count': 57, 'listed_count': 84128, 'created_at': 'Mon Jun 14 19:09:20 +0000 2010', 'favourites_count': 2, 'utc_offset': None, 'time_zone': None, 'geo_enabled': True, 'verified': True, 'statuses_count': 3708, 'lang': None, 'status': {'created_at': 'Thu Sep 02 15:40:56 +0000 2021', 'id': 1433454907353411586, 'id_str': '1433454907353411586', 'text': 'Another historic night! Unforgettable 🙏🏽\\n\\n111⚽️🤭 https://t.co/Eq4ko7bHfP', 'truncated': False, 'entities': {'hashtags': [], 'symbols': [], 'user_mentions': [], 'urls': [], 'media': [{'id': 1433454901573652487, 'id_str': '1433454901573652487', 'indices': [49, 72], 'media_url': 'http://pbs.twimg.com/media/E-Sno2HXEAc5NgO.jpg', 'media_url_https': 'https://pbs.twimg.com/media/E-Sno2HXEAc5NgO.jpg', 'url': 'https://t.co/Eq4ko7bHfP', 'display_url': 'pic.twitter.com/Eq4ko7bHfP', 'expanded_url': 'https://twitter.com/Cristiano/status/1433454907353411586/photo/1', 'type': 'photo', 'sizes': {'thumb': {'w': 150, 'h': 150, 'resize': 'crop'}, 'small': {'w': 549, 'h': 680, 'resize': 'fit'}, 'large': {'w': 828, 'h': 1026, 'resize': 'fit'}, 'medium': {'w': 828, 'h': 1026, 'resize': 'fit'}}}]}, 'extended_entities': {'media': [{'id': 1433454901573652487, 'id_str': '1433454901573652487', 'indices': [49, 72], 'media_url': 'http://pbs.twimg.com/media/E-Sno2HXEAc5NgO.jpg', 'media_url_https': 'https://pbs.twimg.com/media/E-Sno2HXEAc5NgO.jpg', 'url': 'https://t.co/Eq4ko7bHfP', 'display_url': 'pic.twitter.com/Eq4ko7bHfP', 'expanded_url': 'https://twitter.com/Cristiano/status/1433454907353411586/photo/1', 'type': 'photo', 'sizes': {'thumb': {'w': 150, 'h': 150, 'resize': 'crop'}, 'small': {'w': 549, 'h': 680, 'resize': 'fit'}, 'large': {'w': 828, 'h': 1026, 'resize': 'fit'}, 'medium': {'w': 828, 'h': 1026, 'resize': 'fit'}}}]}, 'source': '<a href=\"http://twitter.com/download/iphone\" rel=\"nofollow\">Twitter for iPhone</a>', 'in_reply_to_status_id': None, 'in_reply_to_status_id_str': None, 'in_reply_to_user_id': None, 'in_reply_to_user_id_str': None, 'in_reply_to_screen_name': None, 'geo': None, 'coordinates': None, 'place': None, 'contributors': None, 'is_quote_status': False, 'retweet_count': 17712, 'favorite_count': 138607, 'favorited': False, 'retweeted': False, 'possibly_sensitive': False, 'lang': 'en'}, 'contributors_enabled': False, 'is_translator': False, 'is_translation_enabled': True, 'profile_background_color': '080101', 'profile_background_image_url': 'http://abs.twimg.com/images/themes/theme1/bg.png', 'profile_background_image_url_https': 'https://abs.twimg.com/images/themes/theme1/bg.png', 'profile_background_tile': False, 'profile_image_url': 'http://pbs.twimg.com/profile_images/1157313327867092993/a09TxL_1_normal.jpg', 'profile_image_url_https': 'https://pbs.twimg.com/profile_images/1157313327867092993/a09TxL_1_normal.jpg', 'profile_banner_url': 'https://pbs.twimg.com/profile_banners/155659213/1564759975', 'profile_link_color': '1643C9', 'profile_sidebar_border_color': 'FFFFFF', 'profile_sidebar_fill_color': '838387', 'profile_text_color': '0D0D0D', 'profile_use_background_image': True, 'has_extended_profile': False, 'default_profile': False, 'default_profile_image': False, 'following': False, 'follow_request_sent': False, 'notifications': False, 'translator_type': 'regular', 'withheld_in_countries': []}, id=155659213, id_str='155659213', name='Cristiano Ronaldo', screen_name='Cristiano', location='Turim, Piemonte', profile_location=None, description='This Privacy Policy addresses the collection and use of personal information - https://t.co/Jp6yh1T58c', url='https://t.co/VcAXB9ryty', entities={'url': {'urls': [{'url': 'https://t.co/VcAXB9ryty', 'expanded_url': 'http://www.facebook.com/cristiano', 'display_url': 'facebook.com/cristiano', 'indices': [0, 23]}]}, 'description': {'urls': [{'url': 'https://t.co/Jp6yh1T58c', 'expanded_url': 'http://www.cristianoronaldo.com/terms', 'display_url': 'cristianoronaldo.com/terms', 'indices': [79, 102]}]}}, protected=False, followers_count=94034255, friends_count=57, listed_count=84128, created_at=datetime.datetime(2010, 6, 14, 19, 9, 20), favourites_count=2, utc_offset=None, time_zone=None, geo_enabled=True, verified=True, statuses_count=3708, lang=None, status=Status(_api=<tweepy.api.API object at 0x7f90668efd00>, _json={'created_at': 'Thu Sep 02 15:40:56 +0000 2021', 'id': 1433454907353411586, 'id_str': '1433454907353411586', 'text': 'Another historic night! Unforgettable 🙏🏽\\n\\n111⚽️🤭 https://t.co/Eq4ko7bHfP', 'truncated': False, 'entities': {'hashtags': [], 'symbols': [], 'user_mentions': [], 'urls': [], 'media': [{'id': 1433454901573652487, 'id_str': '1433454901573652487', 'indices': [49, 72], 'media_url': 'http://pbs.twimg.com/media/E-Sno2HXEAc5NgO.jpg', 'media_url_https': 'https://pbs.twimg.com/media/E-Sno2HXEAc5NgO.jpg', 'url': 'https://t.co/Eq4ko7bHfP', 'display_url': 'pic.twitter.com/Eq4ko7bHfP', 'expanded_url': 'https://twitter.com/Cristiano/status/1433454907353411586/photo/1', 'type': 'photo', 'sizes': {'thumb': {'w': 150, 'h': 150, 'resize': 'crop'}, 'small': {'w': 549, 'h': 680, 'resize': 'fit'}, 'large': {'w': 828, 'h': 1026, 'resize': 'fit'}, 'medium': {'w': 828, 'h': 1026, 'resize': 'fit'}}}]}, 'extended_entities': {'media': [{'id': 1433454901573652487, 'id_str': '1433454901573652487', 'indices': [49, 72], 'media_url': 'http://pbs.twimg.com/media/E-Sno2HXEAc5NgO.jpg', 'media_url_https': 'https://pbs.twimg.com/media/E-Sno2HXEAc5NgO.jpg', 'url': 'https://t.co/Eq4ko7bHfP', 'display_url': 'pic.twitter.com/Eq4ko7bHfP', 'expanded_url': 'https://twitter.com/Cristiano/status/1433454907353411586/photo/1', 'type': 'photo', 'sizes': {'thumb': {'w': 150, 'h': 150, 'resize': 'crop'}, 'small': {'w': 549, 'h': 680, 'resize': 'fit'}, 'large': {'w': 828, 'h': 1026, 'resize': 'fit'}, 'medium': {'w': 828, 'h': 1026, 'resize': 'fit'}}}]}, 'source': '<a href=\"http://twitter.com/download/iphone\" rel=\"nofollow\">Twitter for iPhone</a>', 'in_reply_to_status_id': None, 'in_reply_to_status_id_str': None, 'in_reply_to_user_id': None, 'in_reply_to_user_id_str': None, 'in_reply_to_screen_name': None, 'geo': None, 'coordinates': None, 'place': None, 'contributors': None, 'is_quote_status': False, 'retweet_count': 17712, 'favorite_count': 138607, 'favorited': False, 'retweeted': False, 'possibly_sensitive': False, 'lang': 'en'}, created_at=datetime.datetime(2021, 9, 2, 15, 40, 56), id=1433454907353411586, id_str='1433454907353411586', text='Another historic night! Unforgettable 🙏🏽\\n\\n111⚽️🤭 https://t.co/Eq4ko7bHfP', truncated=False, entities={'hashtags': [], 'symbols': [], 'user_mentions': [], 'urls': [], 'media': [{'id': 1433454901573652487, 'id_str': '1433454901573652487', 'indices': [49, 72], 'media_url': 'http://pbs.twimg.com/media/E-Sno2HXEAc5NgO.jpg', 'media_url_https': 'https://pbs.twimg.com/media/E-Sno2HXEAc5NgO.jpg', 'url': 'https://t.co/Eq4ko7bHfP', 'display_url': 'pic.twitter.com/Eq4ko7bHfP', 'expanded_url': 'https://twitter.com/Cristiano/status/1433454907353411586/photo/1', 'type': 'photo', 'sizes': {'thumb': {'w': 150, 'h': 150, 'resize': 'crop'}, 'small': {'w': 549, 'h': 680, 'resize': 'fit'}, 'large': {'w': 828, 'h': 1026, 'resize': 'fit'}, 'medium': {'w': 828, 'h': 1026, 'resize': 'fit'}}}]}, extended_entities={'media': [{'id': 1433454901573652487, 'id_str': '1433454901573652487', 'indices': [49, 72], 'media_url': 'http://pbs.twimg.com/media/E-Sno2HXEAc5NgO.jpg', 'media_url_https': 'https://pbs.twimg.com/media/E-Sno2HXEAc5NgO.jpg', 'url': 'https://t.co/Eq4ko7bHfP', 'display_url': 'pic.twitter.com/Eq4ko7bHfP', 'expanded_url': 'https://twitter.com/Cristiano/status/1433454907353411586/photo/1', 'type': 'photo', 'sizes': {'thumb': {'w': 150, 'h': 150, 'resize': 'crop'}, 'small': {'w': 549, 'h': 680, 'resize': 'fit'}, 'large': {'w': 828, 'h': 1026, 'resize': 'fit'}, 'medium': {'w': 828, 'h': 1026, 'resize': 'fit'}}}]}, source='Twitter for iPhone', source_url='http://twitter.com/download/iphone', in_reply_to_status_id=None, in_reply_to_status_id_str=None, in_reply_to_user_id=None, in_reply_to_user_id_str=None, in_reply_to_screen_name=None, geo=None, coordinates=None, place=None, contributors=None, is_quote_status=False, retweet_count=17712, favorite_count=138607, favorited=False, retweeted=False, possibly_sensitive=False, lang='en'), contributors_enabled=False, is_translator=False, is_translation_enabled=True, profile_background_color='080101', profile_background_image_url='http://abs.twimg.com/images/themes/theme1/bg.png', profile_background_image_url_https='https://abs.twimg.com/images/themes/theme1/bg.png', profile_background_tile=False, profile_image_url='http://pbs.twimg.com/profile_images/1157313327867092993/a09TxL_1_normal.jpg', profile_image_url_https='https://pbs.twimg.com/profile_images/1157313327867092993/a09TxL_1_normal.jpg', profile_banner_url='https://pbs.twimg.com/profile_banners/155659213/1564759975', profile_link_color='1643C9', profile_sidebar_border_color='FFFFFF', profile_sidebar_fill_color='838387', profile_text_color='0D0D0D', profile_use_background_image=True, has_extended_profile=False, default_profile=False, default_profile_image=False, following=False, follow_request_sent=False, notifications=False, translator_type='regular', withheld_in_countries=[])\n"
     ]
    }
   ],
   "source": [
    "cristiano_screen_name = \"cristiano\"\n",
    "user_object_via_screen_name = API.get_user(screen_name=cristiano_screen_name)\n",
    "print(user_object_via_screen_name)"
   ]
  },
  {
   "cell_type": "code",
   "execution_count": 21,
   "id": "7aa455b3",
   "metadata": {},
   "outputs": [
    {
     "name": "stdout",
     "output_type": "stream",
     "text": [
      "{\n",
      "    \"id\": 155659213,\n",
      "    \"id_str\": \"155659213\",\n",
      "    \"name\": \"Cristiano Ronaldo\",\n",
      "    \"screen_name\": \"Cristiano\",\n",
      "    \"location\": \"Turim, Piemonte\",\n",
      "    \"profile_location\": null,\n",
      "    \"description\": \"This Privacy Policy addresses the collection and use of personal information - https://t.co/Jp6yh1T58c\",\n",
      "    \"url\": \"https://t.co/VcAXB9ryty\",\n",
      "    \"entities\": {\n",
      "        \"url\": {\n",
      "            \"urls\": [\n",
      "                {\n",
      "                    \"url\": \"https://t.co/VcAXB9ryty\",\n",
      "                    \"expanded_url\": \"http://www.facebook.com/cristiano\",\n",
      "                    \"display_url\": \"facebook.com/cristiano\",\n",
      "                    \"indices\": [\n",
      "                        0,\n",
      "                        23\n",
      "                    ]\n",
      "                }\n",
      "            ]\n",
      "        },\n",
      "        \"description\": {\n",
      "            \"urls\": [\n",
      "                {\n",
      "                    \"url\": \"https://t.co/Jp6yh1T58c\",\n",
      "                    \"expanded_url\": \"http://www.cristianoronaldo.com/terms\",\n",
      "                    \"display_url\": \"cristianoronaldo.com/terms\",\n",
      "                    \"indices\": [\n",
      "                        79,\n",
      "                        102\n",
      "                    ]\n",
      "                }\n",
      "            ]\n",
      "        }\n",
      "    },\n",
      "    \"protected\": false,\n",
      "    \"followers_count\": 94034192,\n",
      "    \"friends_count\": 57,\n",
      "    \"listed_count\": 84128,\n",
      "    \"created_at\": \"Mon Jun 14 19:09:20 +0000 2010\",\n",
      "    \"favourites_count\": 2,\n",
      "    \"utc_offset\": null,\n",
      "    \"time_zone\": null,\n",
      "    \"geo_enabled\": true,\n",
      "    \"verified\": true,\n",
      "    \"statuses_count\": 3708,\n",
      "    \"lang\": null,\n",
      "    \"status\": {\n",
      "        \"created_at\": \"Thu Sep 02 15:40:56 +0000 2021\",\n",
      "        \"id\": 1433454907353411586,\n",
      "        \"id_str\": \"1433454907353411586\",\n",
      "        \"text\": \"Another historic night! Unforgettable \\ud83d\\ude4f\\ud83c\\udffd\\n\\n111\\u26bd\\ufe0f\\ud83e\\udd2d https://t.co/Eq4ko7bHfP\",\n",
      "        \"truncated\": false,\n",
      "        \"entities\": {\n",
      "            \"hashtags\": [],\n",
      "            \"symbols\": [],\n",
      "            \"user_mentions\": [],\n",
      "            \"urls\": [],\n",
      "            \"media\": [\n",
      "                {\n",
      "                    \"id\": 1433454901573652487,\n",
      "                    \"id_str\": \"1433454901573652487\",\n",
      "                    \"indices\": [\n",
      "                        49,\n",
      "                        72\n",
      "                    ],\n",
      "                    \"media_url\": \"http://pbs.twimg.com/media/E-Sno2HXEAc5NgO.jpg\",\n",
      "                    \"media_url_https\": \"https://pbs.twimg.com/media/E-Sno2HXEAc5NgO.jpg\",\n",
      "                    \"url\": \"https://t.co/Eq4ko7bHfP\",\n",
      "                    \"display_url\": \"pic.twitter.com/Eq4ko7bHfP\",\n",
      "                    \"expanded_url\": \"https://twitter.com/Cristiano/status/1433454907353411586/photo/1\",\n",
      "                    \"type\": \"photo\",\n",
      "                    \"sizes\": {\n",
      "                        \"thumb\": {\n",
      "                            \"w\": 150,\n",
      "                            \"h\": 150,\n",
      "                            \"resize\": \"crop\"\n",
      "                        },\n",
      "                        \"small\": {\n",
      "                            \"w\": 549,\n",
      "                            \"h\": 680,\n",
      "                            \"resize\": \"fit\"\n",
      "                        },\n",
      "                        \"large\": {\n",
      "                            \"w\": 828,\n",
      "                            \"h\": 1026,\n",
      "                            \"resize\": \"fit\"\n",
      "                        },\n",
      "                        \"medium\": {\n",
      "                            \"w\": 828,\n",
      "                            \"h\": 1026,\n",
      "                            \"resize\": \"fit\"\n",
      "                        }\n",
      "                    }\n",
      "                }\n",
      "            ]\n",
      "        },\n",
      "        \"extended_entities\": {\n",
      "            \"media\": [\n",
      "                {\n",
      "                    \"id\": 1433454901573652487,\n",
      "                    \"id_str\": \"1433454901573652487\",\n",
      "                    \"indices\": [\n",
      "                        49,\n",
      "                        72\n",
      "                    ],\n",
      "                    \"media_url\": \"http://pbs.twimg.com/media/E-Sno2HXEAc5NgO.jpg\",\n",
      "                    \"media_url_https\": \"https://pbs.twimg.com/media/E-Sno2HXEAc5NgO.jpg\",\n",
      "                    \"url\": \"https://t.co/Eq4ko7bHfP\",\n",
      "                    \"display_url\": \"pic.twitter.com/Eq4ko7bHfP\",\n",
      "                    \"expanded_url\": \"https://twitter.com/Cristiano/status/1433454907353411586/photo/1\",\n",
      "                    \"type\": \"photo\",\n",
      "                    \"sizes\": {\n",
      "                        \"thumb\": {\n",
      "                            \"w\": 150,\n",
      "                            \"h\": 150,\n",
      "                            \"resize\": \"crop\"\n",
      "                        },\n",
      "                        \"small\": {\n",
      "                            \"w\": 549,\n",
      "                            \"h\": 680,\n",
      "                            \"resize\": \"fit\"\n",
      "                        },\n",
      "                        \"large\": {\n",
      "                            \"w\": 828,\n",
      "                            \"h\": 1026,\n",
      "                            \"resize\": \"fit\"\n",
      "                        },\n",
      "                        \"medium\": {\n",
      "                            \"w\": 828,\n",
      "                            \"h\": 1026,\n",
      "                            \"resize\": \"fit\"\n",
      "                        }\n",
      "                    }\n",
      "                }\n",
      "            ]\n",
      "        },\n",
      "        \"source\": \"<a href=\\\"http://twitter.com/download/iphone\\\" rel=\\\"nofollow\\\">Twitter for iPhone</a>\",\n",
      "        \"in_reply_to_status_id\": null,\n",
      "        \"in_reply_to_status_id_str\": null,\n",
      "        \"in_reply_to_user_id\": null,\n",
      "        \"in_reply_to_user_id_str\": null,\n",
      "        \"in_reply_to_screen_name\": null,\n",
      "        \"geo\": null,\n",
      "        \"coordinates\": null,\n",
      "        \"place\": null,\n",
      "        \"contributors\": null,\n",
      "        \"is_quote_status\": false,\n",
      "        \"retweet_count\": 17483,\n",
      "        \"favorite_count\": 136597,\n",
      "        \"favorited\": false,\n",
      "        \"retweeted\": false,\n",
      "        \"possibly_sensitive\": false,\n",
      "        \"lang\": \"en\"\n",
      "    },\n",
      "    \"contributors_enabled\": false,\n",
      "    \"is_translator\": false,\n",
      "    \"is_translation_enabled\": true,\n",
      "    \"profile_background_color\": \"080101\",\n",
      "    \"profile_background_image_url\": \"http://abs.twimg.com/images/themes/theme1/bg.png\",\n",
      "    \"profile_background_image_url_https\": \"https://abs.twimg.com/images/themes/theme1/bg.png\",\n",
      "    \"profile_background_tile\": false,\n",
      "    \"profile_image_url\": \"http://pbs.twimg.com/profile_images/1157313327867092993/a09TxL_1_normal.jpg\",\n",
      "    \"profile_image_url_https\": \"https://pbs.twimg.com/profile_images/1157313327867092993/a09TxL_1_normal.jpg\",\n",
      "    \"profile_banner_url\": \"https://pbs.twimg.com/profile_banners/155659213/1564759975\",\n",
      "    \"profile_link_color\": \"1643C9\",\n",
      "    \"profile_sidebar_border_color\": \"FFFFFF\",\n",
      "    \"profile_sidebar_fill_color\": \"838387\",\n",
      "    \"profile_text_color\": \"0D0D0D\",\n",
      "    \"profile_use_background_image\": true,\n",
      "    \"has_extended_profile\": false,\n",
      "    \"default_profile\": false,\n",
      "    \"default_profile_image\": false,\n",
      "    \"following\": false,\n",
      "    \"follow_request_sent\": false,\n",
      "    \"notifications\": false,\n",
      "    \"translator_type\": \"regular\",\n",
      "    \"withheld_in_countries\": []\n",
      "}\n"
     ]
    }
   ],
   "source": [
    "print(json.dumps(user_object_via_user_id._json, indent=4))"
   ]
  },
  {
   "cell_type": "markdown",
   "id": "f713d8d7",
   "metadata": {},
   "source": [
    "# Collect the 20 most recent tweets posted by a user"
   ]
  },
  {
   "cell_type": "code",
   "execution_count": 23,
   "id": "30ad642d",
   "metadata": {},
   "outputs": [
    {
     "name": "stdout",
     "output_type": "stream",
     "text": [
      "20\n"
     ]
    }
   ],
   "source": [
    "user_id = 759251 # user_id for CNN's official Twitter hande\n",
    "recent_hundred_tweets = API.user_timeline(id=user_id)\n",
    "print(len(recent_hundred_tweets))"
   ]
  },
  {
   "cell_type": "markdown",
   "id": "40740eb6",
   "metadata": {},
   "source": [
    "### get a single tweet to explore"
   ]
  },
  {
   "cell_type": "code",
   "execution_count": 24,
   "id": "2049658d",
   "metadata": {},
   "outputs": [
    {
     "name": "stdout",
     "output_type": "stream",
     "text": [
      "Status(_api=<tweepy.api.API object at 0x7f90668efd00>, _json={'created_at': 'Thu Sep 02 16:22:31 +0000 2021', 'id': 1433465371722452992, 'id_str': '1433465371722452992', 'text': 'A new study of breakthrough Covid-19 infections finds that vaccines not only reduce the risk of severe disease and… https://t.co/Y16ji25MPp', 'truncated': True, 'entities': {'hashtags': [], 'symbols': [], 'user_mentions': [], 'urls': [{'url': 'https://t.co/Y16ji25MPp', 'expanded_url': 'https://twitter.com/i/web/status/1433465371722452992', 'display_url': 'twitter.com/i/web/status/1…', 'indices': [116, 139]}]}, 'source': '<a href=\"http://www.socialflow.com\" rel=\"nofollow\">SocialFlow</a>', 'in_reply_to_status_id': None, 'in_reply_to_status_id_str': None, 'in_reply_to_user_id': None, 'in_reply_to_user_id_str': None, 'in_reply_to_screen_name': None, 'user': {'id': 759251, 'id_str': '759251', 'name': 'CNN', 'screen_name': 'CNN', 'location': '', 'description': 'It’s our job to #GoThere & tell the most difficult stories. Join us! For more breaking news updates follow @CNNBRK & download our app https://t.co/UCHG9M367J', 'url': 'http://t.co/IaghNW8Xm2', 'entities': {'url': {'urls': [{'url': 'http://t.co/IaghNW8Xm2', 'expanded_url': 'http://www.cnn.com', 'display_url': 'cnn.com', 'indices': [0, 22]}]}, 'description': {'urls': [{'url': 'https://t.co/UCHG9M367J', 'expanded_url': 'http://cnn.com/apps', 'display_url': 'cnn.com/apps', 'indices': [134, 157]}]}}, 'protected': False, 'followers_count': 54546224, 'friends_count': 1103, 'listed_count': 149879, 'created_at': 'Fri Feb 09 00:35:02 +0000 2007', 'favourites_count': 1403, 'utc_offset': None, 'time_zone': None, 'geo_enabled': True, 'verified': True, 'statuses_count': 350938, 'lang': None, 'contributors_enabled': False, 'is_translator': False, 'is_translation_enabled': True, 'profile_background_color': '323232', 'profile_background_image_url': 'http://abs.twimg.com/images/themes/theme1/bg.png', 'profile_background_image_url_https': 'https://abs.twimg.com/images/themes/theme1/bg.png', 'profile_background_tile': False, 'profile_image_url': 'http://pbs.twimg.com/profile_images/1278259160644227073/MfCyF7CG_normal.jpg', 'profile_image_url_https': 'https://pbs.twimg.com/profile_images/1278259160644227073/MfCyF7CG_normal.jpg', 'profile_banner_url': 'https://pbs.twimg.com/profile_banners/759251/1630451250', 'profile_link_color': '004287', 'profile_sidebar_border_color': '000000', 'profile_sidebar_fill_color': 'EEEEEE', 'profile_text_color': '000000', 'profile_use_background_image': False, 'has_extended_profile': False, 'default_profile': False, 'default_profile_image': False, 'following': True, 'follow_request_sent': False, 'notifications': False, 'translator_type': 'regular', 'withheld_in_countries': []}, 'geo': None, 'coordinates': None, 'place': None, 'contributors': None, 'is_quote_status': False, 'retweet_count': 97, 'favorite_count': 261, 'favorited': False, 'retweeted': False, 'possibly_sensitive': False, 'lang': 'en'}, created_at=datetime.datetime(2021, 9, 2, 16, 22, 31), id=1433465371722452992, id_str='1433465371722452992', text='A new study of breakthrough Covid-19 infections finds that vaccines not only reduce the risk of severe disease and… https://t.co/Y16ji25MPp', truncated=True, entities={'hashtags': [], 'symbols': [], 'user_mentions': [], 'urls': [{'url': 'https://t.co/Y16ji25MPp', 'expanded_url': 'https://twitter.com/i/web/status/1433465371722452992', 'display_url': 'twitter.com/i/web/status/1…', 'indices': [116, 139]}]}, source='SocialFlow', source_url='http://www.socialflow.com', in_reply_to_status_id=None, in_reply_to_status_id_str=None, in_reply_to_user_id=None, in_reply_to_user_id_str=None, in_reply_to_screen_name=None, author=User(_api=<tweepy.api.API object at 0x7f90668efd00>, _json={'id': 759251, 'id_str': '759251', 'name': 'CNN', 'screen_name': 'CNN', 'location': '', 'description': 'It’s our job to #GoThere & tell the most difficult stories. Join us! For more breaking news updates follow @CNNBRK & download our app https://t.co/UCHG9M367J', 'url': 'http://t.co/IaghNW8Xm2', 'entities': {'url': {'urls': [{'url': 'http://t.co/IaghNW8Xm2', 'expanded_url': 'http://www.cnn.com', 'display_url': 'cnn.com', 'indices': [0, 22]}]}, 'description': {'urls': [{'url': 'https://t.co/UCHG9M367J', 'expanded_url': 'http://cnn.com/apps', 'display_url': 'cnn.com/apps', 'indices': [134, 157]}]}}, 'protected': False, 'followers_count': 54546224, 'friends_count': 1103, 'listed_count': 149879, 'created_at': 'Fri Feb 09 00:35:02 +0000 2007', 'favourites_count': 1403, 'utc_offset': None, 'time_zone': None, 'geo_enabled': True, 'verified': True, 'statuses_count': 350938, 'lang': None, 'contributors_enabled': False, 'is_translator': False, 'is_translation_enabled': True, 'profile_background_color': '323232', 'profile_background_image_url': 'http://abs.twimg.com/images/themes/theme1/bg.png', 'profile_background_image_url_https': 'https://abs.twimg.com/images/themes/theme1/bg.png', 'profile_background_tile': False, 'profile_image_url': 'http://pbs.twimg.com/profile_images/1278259160644227073/MfCyF7CG_normal.jpg', 'profile_image_url_https': 'https://pbs.twimg.com/profile_images/1278259160644227073/MfCyF7CG_normal.jpg', 'profile_banner_url': 'https://pbs.twimg.com/profile_banners/759251/1630451250', 'profile_link_color': '004287', 'profile_sidebar_border_color': '000000', 'profile_sidebar_fill_color': 'EEEEEE', 'profile_text_color': '000000', 'profile_use_background_image': False, 'has_extended_profile': False, 'default_profile': False, 'default_profile_image': False, 'following': True, 'follow_request_sent': False, 'notifications': False, 'translator_type': 'regular', 'withheld_in_countries': []}, id=759251, id_str='759251', name='CNN', screen_name='CNN', location='', description='It’s our job to #GoThere & tell the most difficult stories. Join us! For more breaking news updates follow @CNNBRK & download our app https://t.co/UCHG9M367J', url='http://t.co/IaghNW8Xm2', entities={'url': {'urls': [{'url': 'http://t.co/IaghNW8Xm2', 'expanded_url': 'http://www.cnn.com', 'display_url': 'cnn.com', 'indices': [0, 22]}]}, 'description': {'urls': [{'url': 'https://t.co/UCHG9M367J', 'expanded_url': 'http://cnn.com/apps', 'display_url': 'cnn.com/apps', 'indices': [134, 157]}]}}, protected=False, followers_count=54546224, friends_count=1103, listed_count=149879, created_at=datetime.datetime(2007, 2, 9, 0, 35, 2), favourites_count=1403, utc_offset=None, time_zone=None, geo_enabled=True, verified=True, statuses_count=350938, lang=None, contributors_enabled=False, is_translator=False, is_translation_enabled=True, profile_background_color='323232', profile_background_image_url='http://abs.twimg.com/images/themes/theme1/bg.png', profile_background_image_url_https='https://abs.twimg.com/images/themes/theme1/bg.png', profile_background_tile=False, profile_image_url='http://pbs.twimg.com/profile_images/1278259160644227073/MfCyF7CG_normal.jpg', profile_image_url_https='https://pbs.twimg.com/profile_images/1278259160644227073/MfCyF7CG_normal.jpg', profile_banner_url='https://pbs.twimg.com/profile_banners/759251/1630451250', profile_link_color='004287', profile_sidebar_border_color='000000', profile_sidebar_fill_color='EEEEEE', profile_text_color='000000', profile_use_background_image=False, has_extended_profile=False, default_profile=False, default_profile_image=False, following=True, follow_request_sent=False, notifications=False, translator_type='regular', withheld_in_countries=[]), user=User(_api=<tweepy.api.API object at 0x7f90668efd00>, _json={'id': 759251, 'id_str': '759251', 'name': 'CNN', 'screen_name': 'CNN', 'location': '', 'description': 'It’s our job to #GoThere & tell the most difficult stories. Join us! For more breaking news updates follow @CNNBRK & download our app https://t.co/UCHG9M367J', 'url': 'http://t.co/IaghNW8Xm2', 'entities': {'url': {'urls': [{'url': 'http://t.co/IaghNW8Xm2', 'expanded_url': 'http://www.cnn.com', 'display_url': 'cnn.com', 'indices': [0, 22]}]}, 'description': {'urls': [{'url': 'https://t.co/UCHG9M367J', 'expanded_url': 'http://cnn.com/apps', 'display_url': 'cnn.com/apps', 'indices': [134, 157]}]}}, 'protected': False, 'followers_count': 54546224, 'friends_count': 1103, 'listed_count': 149879, 'created_at': 'Fri Feb 09 00:35:02 +0000 2007', 'favourites_count': 1403, 'utc_offset': None, 'time_zone': None, 'geo_enabled': True, 'verified': True, 'statuses_count': 350938, 'lang': None, 'contributors_enabled': False, 'is_translator': False, 'is_translation_enabled': True, 'profile_background_color': '323232', 'profile_background_image_url': 'http://abs.twimg.com/images/themes/theme1/bg.png', 'profile_background_image_url_https': 'https://abs.twimg.com/images/themes/theme1/bg.png', 'profile_background_tile': False, 'profile_image_url': 'http://pbs.twimg.com/profile_images/1278259160644227073/MfCyF7CG_normal.jpg', 'profile_image_url_https': 'https://pbs.twimg.com/profile_images/1278259160644227073/MfCyF7CG_normal.jpg', 'profile_banner_url': 'https://pbs.twimg.com/profile_banners/759251/1630451250', 'profile_link_color': '004287', 'profile_sidebar_border_color': '000000', 'profile_sidebar_fill_color': 'EEEEEE', 'profile_text_color': '000000', 'profile_use_background_image': False, 'has_extended_profile': False, 'default_profile': False, 'default_profile_image': False, 'following': True, 'follow_request_sent': False, 'notifications': False, 'translator_type': 'regular', 'withheld_in_countries': []}, id=759251, id_str='759251', name='CNN', screen_name='CNN', location='', description='It’s our job to #GoThere & tell the most difficult stories. Join us! For more breaking news updates follow @CNNBRK & download our app https://t.co/UCHG9M367J', url='http://t.co/IaghNW8Xm2', entities={'url': {'urls': [{'url': 'http://t.co/IaghNW8Xm2', 'expanded_url': 'http://www.cnn.com', 'display_url': 'cnn.com', 'indices': [0, 22]}]}, 'description': {'urls': [{'url': 'https://t.co/UCHG9M367J', 'expanded_url': 'http://cnn.com/apps', 'display_url': 'cnn.com/apps', 'indices': [134, 157]}]}}, protected=False, followers_count=54546224, friends_count=1103, listed_count=149879, created_at=datetime.datetime(2007, 2, 9, 0, 35, 2), favourites_count=1403, utc_offset=None, time_zone=None, geo_enabled=True, verified=True, statuses_count=350938, lang=None, contributors_enabled=False, is_translator=False, is_translation_enabled=True, profile_background_color='323232', profile_background_image_url='http://abs.twimg.com/images/themes/theme1/bg.png', profile_background_image_url_https='https://abs.twimg.com/images/themes/theme1/bg.png', profile_background_tile=False, profile_image_url='http://pbs.twimg.com/profile_images/1278259160644227073/MfCyF7CG_normal.jpg', profile_image_url_https='https://pbs.twimg.com/profile_images/1278259160644227073/MfCyF7CG_normal.jpg', profile_banner_url='https://pbs.twimg.com/profile_banners/759251/1630451250', profile_link_color='004287', profile_sidebar_border_color='000000', profile_sidebar_fill_color='EEEEEE', profile_text_color='000000', profile_use_background_image=False, has_extended_profile=False, default_profile=False, default_profile_image=False, following=True, follow_request_sent=False, notifications=False, translator_type='regular', withheld_in_countries=[]), geo=None, coordinates=None, place=None, contributors=None, is_quote_status=False, retweet_count=97, favorite_count=261, favorited=False, retweeted=False, possibly_sensitive=False, lang='en')\n"
     ]
    }
   ],
   "source": [
    "single_tweet = recent_hundred_tweets[0]\n",
    "print(single_tweet)"
   ]
  },
  {
   "cell_type": "markdown",
   "id": "b112824d",
   "metadata": {},
   "source": [
    "# Collect all the Tweets posted by a User (max 3200 recent tweets)\n",
    "In a single request, Twitter only serves 100 tweets (max). <br/>\n",
    "To collect all the 3200 tweets, we need to make iterative requests.\n",
    "We can use Tweepy's **Cursor** wrapper to ease the process."
   ]
  },
  {
   "cell_type": "code",
   "execution_count": 29,
   "id": "e7e25f76",
   "metadata": {},
   "outputs": [],
   "source": [
    "all_tweet_list = []\n",
    "for tweets in tweepy.Cursor(API.user_timeline, count=200, id=user_id).items():\n",
    "    # process status here\n",
    "    all_tweet_list.append(tweets)"
   ]
  },
  {
   "cell_type": "code",
   "execution_count": 30,
   "id": "24a47adc",
   "metadata": {},
   "outputs": [
    {
     "name": "stdout",
     "output_type": "stream",
     "text": [
      "3250\n"
     ]
    }
   ],
   "source": [
    "print(len(all_tweet_list))"
   ]
  },
  {
   "cell_type": "code",
   "execution_count": null,
   "id": "eaac0d36",
   "metadata": {},
   "outputs": [],
   "source": [
    "### get a single tweet to explore"
   ]
  },
  {
   "cell_type": "code",
   "execution_count": 31,
   "id": "6bd966bb",
   "metadata": {},
   "outputs": [
    {
     "name": "stdout",
     "output_type": "stream",
     "text": [
      "Status(_api=<tweepy.api.API object at 0x7f90668efd00>, _json={'created_at': 'Thu Sep 02 16:22:31 +0000 2021', 'id': 1433465371722452992, 'id_str': '1433465371722452992', 'text': 'A new study of breakthrough Covid-19 infections finds that vaccines not only reduce the risk of severe disease and… https://t.co/Y16ji25MPp', 'truncated': True, 'entities': {'hashtags': [], 'symbols': [], 'user_mentions': [], 'urls': [{'url': 'https://t.co/Y16ji25MPp', 'expanded_url': 'https://twitter.com/i/web/status/1433465371722452992', 'display_url': 'twitter.com/i/web/status/1…', 'indices': [116, 139]}]}, 'source': '<a href=\"http://www.socialflow.com\" rel=\"nofollow\">SocialFlow</a>', 'in_reply_to_status_id': None, 'in_reply_to_status_id_str': None, 'in_reply_to_user_id': None, 'in_reply_to_user_id_str': None, 'in_reply_to_screen_name': None, 'user': {'id': 759251, 'id_str': '759251', 'name': 'CNN', 'screen_name': 'CNN', 'location': '', 'description': 'It’s our job to #GoThere & tell the most difficult stories. Join us! For more breaking news updates follow @CNNBRK & download our app https://t.co/UCHG9M367J', 'url': 'http://t.co/IaghNW8Xm2', 'entities': {'url': {'urls': [{'url': 'http://t.co/IaghNW8Xm2', 'expanded_url': 'http://www.cnn.com', 'display_url': 'cnn.com', 'indices': [0, 22]}]}, 'description': {'urls': [{'url': 'https://t.co/UCHG9M367J', 'expanded_url': 'http://cnn.com/apps', 'display_url': 'cnn.com/apps', 'indices': [134, 157]}]}}, 'protected': False, 'followers_count': 54546224, 'friends_count': 1103, 'listed_count': 149879, 'created_at': 'Fri Feb 09 00:35:02 +0000 2007', 'favourites_count': 1403, 'utc_offset': None, 'time_zone': None, 'geo_enabled': True, 'verified': True, 'statuses_count': 350938, 'lang': None, 'contributors_enabled': False, 'is_translator': False, 'is_translation_enabled': True, 'profile_background_color': '323232', 'profile_background_image_url': 'http://abs.twimg.com/images/themes/theme1/bg.png', 'profile_background_image_url_https': 'https://abs.twimg.com/images/themes/theme1/bg.png', 'profile_background_tile': False, 'profile_image_url': 'http://pbs.twimg.com/profile_images/1278259160644227073/MfCyF7CG_normal.jpg', 'profile_image_url_https': 'https://pbs.twimg.com/profile_images/1278259160644227073/MfCyF7CG_normal.jpg', 'profile_banner_url': 'https://pbs.twimg.com/profile_banners/759251/1630451250', 'profile_link_color': '004287', 'profile_sidebar_border_color': '000000', 'profile_sidebar_fill_color': 'EEEEEE', 'profile_text_color': '000000', 'profile_use_background_image': False, 'has_extended_profile': False, 'default_profile': False, 'default_profile_image': False, 'following': True, 'follow_request_sent': False, 'notifications': False, 'translator_type': 'regular', 'withheld_in_countries': []}, 'geo': None, 'coordinates': None, 'place': None, 'contributors': None, 'is_quote_status': False, 'retweet_count': 97, 'favorite_count': 261, 'favorited': False, 'retweeted': False, 'possibly_sensitive': False, 'lang': 'en'}, created_at=datetime.datetime(2021, 9, 2, 16, 22, 31), id=1433465371722452992, id_str='1433465371722452992', text='A new study of breakthrough Covid-19 infections finds that vaccines not only reduce the risk of severe disease and… https://t.co/Y16ji25MPp', truncated=True, entities={'hashtags': [], 'symbols': [], 'user_mentions': [], 'urls': [{'url': 'https://t.co/Y16ji25MPp', 'expanded_url': 'https://twitter.com/i/web/status/1433465371722452992', 'display_url': 'twitter.com/i/web/status/1…', 'indices': [116, 139]}]}, source='SocialFlow', source_url='http://www.socialflow.com', in_reply_to_status_id=None, in_reply_to_status_id_str=None, in_reply_to_user_id=None, in_reply_to_user_id_str=None, in_reply_to_screen_name=None, author=User(_api=<tweepy.api.API object at 0x7f90668efd00>, _json={'id': 759251, 'id_str': '759251', 'name': 'CNN', 'screen_name': 'CNN', 'location': '', 'description': 'It’s our job to #GoThere & tell the most difficult stories. Join us! For more breaking news updates follow @CNNBRK & download our app https://t.co/UCHG9M367J', 'url': 'http://t.co/IaghNW8Xm2', 'entities': {'url': {'urls': [{'url': 'http://t.co/IaghNW8Xm2', 'expanded_url': 'http://www.cnn.com', 'display_url': 'cnn.com', 'indices': [0, 22]}]}, 'description': {'urls': [{'url': 'https://t.co/UCHG9M367J', 'expanded_url': 'http://cnn.com/apps', 'display_url': 'cnn.com/apps', 'indices': [134, 157]}]}}, 'protected': False, 'followers_count': 54546224, 'friends_count': 1103, 'listed_count': 149879, 'created_at': 'Fri Feb 09 00:35:02 +0000 2007', 'favourites_count': 1403, 'utc_offset': None, 'time_zone': None, 'geo_enabled': True, 'verified': True, 'statuses_count': 350938, 'lang': None, 'contributors_enabled': False, 'is_translator': False, 'is_translation_enabled': True, 'profile_background_color': '323232', 'profile_background_image_url': 'http://abs.twimg.com/images/themes/theme1/bg.png', 'profile_background_image_url_https': 'https://abs.twimg.com/images/themes/theme1/bg.png', 'profile_background_tile': False, 'profile_image_url': 'http://pbs.twimg.com/profile_images/1278259160644227073/MfCyF7CG_normal.jpg', 'profile_image_url_https': 'https://pbs.twimg.com/profile_images/1278259160644227073/MfCyF7CG_normal.jpg', 'profile_banner_url': 'https://pbs.twimg.com/profile_banners/759251/1630451250', 'profile_link_color': '004287', 'profile_sidebar_border_color': '000000', 'profile_sidebar_fill_color': 'EEEEEE', 'profile_text_color': '000000', 'profile_use_background_image': False, 'has_extended_profile': False, 'default_profile': False, 'default_profile_image': False, 'following': True, 'follow_request_sent': False, 'notifications': False, 'translator_type': 'regular', 'withheld_in_countries': []}, id=759251, id_str='759251', name='CNN', screen_name='CNN', location='', description='It’s our job to #GoThere & tell the most difficult stories. Join us! For more breaking news updates follow @CNNBRK & download our app https://t.co/UCHG9M367J', url='http://t.co/IaghNW8Xm2', entities={'url': {'urls': [{'url': 'http://t.co/IaghNW8Xm2', 'expanded_url': 'http://www.cnn.com', 'display_url': 'cnn.com', 'indices': [0, 22]}]}, 'description': {'urls': [{'url': 'https://t.co/UCHG9M367J', 'expanded_url': 'http://cnn.com/apps', 'display_url': 'cnn.com/apps', 'indices': [134, 157]}]}}, protected=False, followers_count=54546224, friends_count=1103, listed_count=149879, created_at=datetime.datetime(2007, 2, 9, 0, 35, 2), favourites_count=1403, utc_offset=None, time_zone=None, geo_enabled=True, verified=True, statuses_count=350938, lang=None, contributors_enabled=False, is_translator=False, is_translation_enabled=True, profile_background_color='323232', profile_background_image_url='http://abs.twimg.com/images/themes/theme1/bg.png', profile_background_image_url_https='https://abs.twimg.com/images/themes/theme1/bg.png', profile_background_tile=False, profile_image_url='http://pbs.twimg.com/profile_images/1278259160644227073/MfCyF7CG_normal.jpg', profile_image_url_https='https://pbs.twimg.com/profile_images/1278259160644227073/MfCyF7CG_normal.jpg', profile_banner_url='https://pbs.twimg.com/profile_banners/759251/1630451250', profile_link_color='004287', profile_sidebar_border_color='000000', profile_sidebar_fill_color='EEEEEE', profile_text_color='000000', profile_use_background_image=False, has_extended_profile=False, default_profile=False, default_profile_image=False, following=True, follow_request_sent=False, notifications=False, translator_type='regular', withheld_in_countries=[]), user=User(_api=<tweepy.api.API object at 0x7f90668efd00>, _json={'id': 759251, 'id_str': '759251', 'name': 'CNN', 'screen_name': 'CNN', 'location': '', 'description': 'It’s our job to #GoThere & tell the most difficult stories. Join us! For more breaking news updates follow @CNNBRK & download our app https://t.co/UCHG9M367J', 'url': 'http://t.co/IaghNW8Xm2', 'entities': {'url': {'urls': [{'url': 'http://t.co/IaghNW8Xm2', 'expanded_url': 'http://www.cnn.com', 'display_url': 'cnn.com', 'indices': [0, 22]}]}, 'description': {'urls': [{'url': 'https://t.co/UCHG9M367J', 'expanded_url': 'http://cnn.com/apps', 'display_url': 'cnn.com/apps', 'indices': [134, 157]}]}}, 'protected': False, 'followers_count': 54546224, 'friends_count': 1103, 'listed_count': 149879, 'created_at': 'Fri Feb 09 00:35:02 +0000 2007', 'favourites_count': 1403, 'utc_offset': None, 'time_zone': None, 'geo_enabled': True, 'verified': True, 'statuses_count': 350938, 'lang': None, 'contributors_enabled': False, 'is_translator': False, 'is_translation_enabled': True, 'profile_background_color': '323232', 'profile_background_image_url': 'http://abs.twimg.com/images/themes/theme1/bg.png', 'profile_background_image_url_https': 'https://abs.twimg.com/images/themes/theme1/bg.png', 'profile_background_tile': False, 'profile_image_url': 'http://pbs.twimg.com/profile_images/1278259160644227073/MfCyF7CG_normal.jpg', 'profile_image_url_https': 'https://pbs.twimg.com/profile_images/1278259160644227073/MfCyF7CG_normal.jpg', 'profile_banner_url': 'https://pbs.twimg.com/profile_banners/759251/1630451250', 'profile_link_color': '004287', 'profile_sidebar_border_color': '000000', 'profile_sidebar_fill_color': 'EEEEEE', 'profile_text_color': '000000', 'profile_use_background_image': False, 'has_extended_profile': False, 'default_profile': False, 'default_profile_image': False, 'following': True, 'follow_request_sent': False, 'notifications': False, 'translator_type': 'regular', 'withheld_in_countries': []}, id=759251, id_str='759251', name='CNN', screen_name='CNN', location='', description='It’s our job to #GoThere & tell the most difficult stories. Join us! For more breaking news updates follow @CNNBRK & download our app https://t.co/UCHG9M367J', url='http://t.co/IaghNW8Xm2', entities={'url': {'urls': [{'url': 'http://t.co/IaghNW8Xm2', 'expanded_url': 'http://www.cnn.com', 'display_url': 'cnn.com', 'indices': [0, 22]}]}, 'description': {'urls': [{'url': 'https://t.co/UCHG9M367J', 'expanded_url': 'http://cnn.com/apps', 'display_url': 'cnn.com/apps', 'indices': [134, 157]}]}}, protected=False, followers_count=54546224, friends_count=1103, listed_count=149879, created_at=datetime.datetime(2007, 2, 9, 0, 35, 2), favourites_count=1403, utc_offset=None, time_zone=None, geo_enabled=True, verified=True, statuses_count=350938, lang=None, contributors_enabled=False, is_translator=False, is_translation_enabled=True, profile_background_color='323232', profile_background_image_url='http://abs.twimg.com/images/themes/theme1/bg.png', profile_background_image_url_https='https://abs.twimg.com/images/themes/theme1/bg.png', profile_background_tile=False, profile_image_url='http://pbs.twimg.com/profile_images/1278259160644227073/MfCyF7CG_normal.jpg', profile_image_url_https='https://pbs.twimg.com/profile_images/1278259160644227073/MfCyF7CG_normal.jpg', profile_banner_url='https://pbs.twimg.com/profile_banners/759251/1630451250', profile_link_color='004287', profile_sidebar_border_color='000000', profile_sidebar_fill_color='EEEEEE', profile_text_color='000000', profile_use_background_image=False, has_extended_profile=False, default_profile=False, default_profile_image=False, following=True, follow_request_sent=False, notifications=False, translator_type='regular', withheld_in_countries=[]), geo=None, coordinates=None, place=None, contributors=None, is_quote_status=False, retweet_count=97, favorite_count=261, favorited=False, retweeted=False, possibly_sensitive=False, lang='en')\n"
     ]
    }
   ],
   "source": [
    "single_tweet = recent_hundred_tweets[0]\n",
    "print(single_tweet)"
   ]
  },
  {
   "cell_type": "code",
   "execution_count": null,
   "id": "73267131",
   "metadata": {},
   "outputs": [],
   "source": []
  }
 ],
 "metadata": {
  "kernelspec": {
   "display_name": "Python 3",
   "language": "python",
   "name": "python3"
  },
  "language_info": {
   "codemirror_mode": {
    "name": "ipython",
    "version": 3
   },
   "file_extension": ".py",
   "mimetype": "text/x-python",
   "name": "python",
   "nbconvert_exporter": "python",
   "pygments_lexer": "ipython3",
   "version": "3.8.8"
  }
 },
 "nbformat": 4,
 "nbformat_minor": 5
}
